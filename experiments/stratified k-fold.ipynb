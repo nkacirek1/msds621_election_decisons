{
 "cells": [
  {
   "cell_type": "code",
   "execution_count": 5,
   "metadata": {
    "ExecuteTime": {
     "end_time": "2018-12-01T22:08:15.327035Z",
     "start_time": "2018-12-01T22:08:15.322182Z"
    }
   },
   "outputs": [],
   "source": [
    "import pandas as pd\n",
    "import numpy as np"
   ]
  },
  {
   "cell_type": "code",
   "execution_count": 2,
   "metadata": {
    "ExecuteTime": {
     "end_time": "2018-12-01T22:07:27.882041Z",
     "start_time": "2018-12-01T22:07:27.872403Z"
    }
   },
   "outputs": [],
   "source": [
    "df = pd.read_csv(\"../data/final.csv\")"
   ]
  },
  {
   "cell_type": "code",
   "execution_count": 3,
   "metadata": {
    "ExecuteTime": {
     "end_time": "2018-12-01T22:07:29.458238Z",
     "start_time": "2018-12-01T22:07:29.450872Z"
    }
   },
   "outputs": [],
   "source": [
    "df_contested = df[df.TIGHT_RACE == True].reset_index(drop=True)\n",
    "df_not_contested = df[df.TIGHT_RACE == False].reset_index(drop=True)"
   ]
  },
  {
   "cell_type": "code",
   "execution_count": 6,
   "metadata": {
    "ExecuteTime": {
     "end_time": "2018-12-01T22:08:17.589943Z",
     "start_time": "2018-12-01T22:08:17.582271Z"
    }
   },
   "outputs": [],
   "source": [
    "sample = np.random.choice(range(df_contested.shape[0]), size=df_not_contested.shape[0], replace=True)\n",
    "df_contested_bootstrapped = df_contested.iloc[sample].reset_index(drop=True)\n",
    "frames = [df_not_contested, df_contested_bootstrapped]\n",
    "df_new = pd.concat(frames)\n",
    "df = df_new"
   ]
  },
  {
   "cell_type": "code",
   "execution_count": 7,
   "metadata": {
    "ExecuteTime": {
     "end_time": "2018-12-01T22:08:19.379138Z",
     "start_time": "2018-12-01T22:08:19.123545Z"
    }
   },
   "outputs": [],
   "source": [
    "from sklearn.model_selection import StratifiedKFold"
   ]
  },
  {
   "cell_type": "code",
   "execution_count": 8,
   "metadata": {
    "ExecuteTime": {
     "end_time": "2018-12-01T22:08:19.828517Z",
     "start_time": "2018-12-01T22:08:19.824447Z"
    }
   },
   "outputs": [],
   "source": [
    "from sklearn.preprocessing import LabelEncoder"
   ]
  },
  {
   "cell_type": "code",
   "execution_count": 9,
   "metadata": {
    "ExecuteTime": {
     "end_time": "2018-12-01T22:08:20.595976Z",
     "start_time": "2018-12-01T22:08:20.588838Z"
    }
   },
   "outputs": [],
   "source": [
    "for column in df.columns:\n",
    "    if df[column].dtype == type(object):\n",
    "        le = LabelEncoder()\n",
    "        df[column] = le.fit_transform(df[column])"
   ]
  },
  {
   "cell_type": "code",
   "execution_count": 10,
   "metadata": {
    "ExecuteTime": {
     "end_time": "2018-12-01T22:08:22.130326Z",
     "start_time": "2018-12-01T22:08:22.123442Z"
    }
   },
   "outputs": [],
   "source": [
    "X_kf = df.drop(columns=['TIGHT_RACE'])\n",
    "y_kf = df.TIGHT_RACE"
   ]
  },
  {
   "cell_type": "code",
   "execution_count": 28,
   "metadata": {
    "ExecuteTime": {
     "end_time": "2018-12-01T22:11:39.532123Z",
     "start_time": "2018-12-01T22:11:39.528673Z"
    }
   },
   "outputs": [],
   "source": [
    "skf = StratifiedKFold(n_splits=10)"
   ]
  },
  {
   "cell_type": "code",
   "execution_count": 12,
   "metadata": {
    "ExecuteTime": {
     "end_time": "2018-12-01T22:08:23.561369Z",
     "start_time": "2018-12-01T22:08:23.556494Z"
    }
   },
   "outputs": [],
   "source": [
    "X = df.drop(columns=['WINNER'])\n",
    "y = df.WINNER"
   ]
  },
  {
   "cell_type": "markdown",
   "metadata": {},
   "source": [
    "# Decision Tree"
   ]
  },
  {
   "cell_type": "code",
   "execution_count": 17,
   "metadata": {
    "ExecuteTime": {
     "end_time": "2018-12-01T22:09:44.796007Z",
     "start_time": "2018-12-01T22:09:44.791622Z"
    }
   },
   "outputs": [],
   "source": [
    "from sklearn.tree import DecisionTreeClassifier"
   ]
  },
  {
   "cell_type": "code",
   "execution_count": 33,
   "metadata": {
    "ExecuteTime": {
     "end_time": "2018-12-01T22:14:03.689895Z",
     "start_time": "2018-12-01T22:14:03.643108Z"
    }
   },
   "outputs": [],
   "source": [
    "scores = []\n",
    "for train_index, test_index in skf.split(X_kf, y_kf):\n",
    "    # print(\"TRAIN:\", train_index, \"TEST:\", test_index)\n",
    "    X_train, X_test = X.iloc[train_index], X.iloc[test_index]\n",
    "    y_train, y_test = y.iloc[train_index], y.iloc[test_index]\n",
    "    \n",
    "    dt = DecisionTreeClassifier()\n",
    "    dt.fit(X_train, y_train)\n",
    "    scores.append(dt.score(X_test, y_test))"
   ]
  },
  {
   "cell_type": "code",
   "execution_count": 34,
   "metadata": {
    "ExecuteTime": {
     "end_time": "2018-12-01T22:14:04.055191Z",
     "start_time": "2018-12-01T22:14:04.050960Z"
    }
   },
   "outputs": [
    {
     "name": "stdout",
     "output_type": "stream",
     "text": [
      "[0.75, 0.9375, 0.75, 0.625, 0.8125, 0.8571428571428571, 0.9285714285714286, 0.9285714285714286, 0.7142857142857143, 0.8571428571428571]\n",
      "0.8160714285714287\n"
     ]
    }
   ],
   "source": [
    "print(scores); print(np.mean(scores))"
   ]
  },
  {
   "cell_type": "code",
   "execution_count": null,
   "metadata": {},
   "outputs": [],
   "source": []
  }
 ],
 "metadata": {
  "kernelspec": {
   "display_name": "Python 3",
   "language": "python",
   "name": "python3"
  },
  "language_info": {
   "codemirror_mode": {
    "name": "ipython",
    "version": 3
   },
   "file_extension": ".py",
   "mimetype": "text/x-python",
   "name": "python",
   "nbconvert_exporter": "python",
   "pygments_lexer": "ipython3",
   "version": "3.6.6"
  }
 },
 "nbformat": 4,
 "nbformat_minor": 2
}
