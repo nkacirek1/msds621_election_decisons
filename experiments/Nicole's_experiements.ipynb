{
 "cells": [
  {
   "cell_type": "code",
   "execution_count": 1,
   "metadata": {
    "ExecuteTime": {
     "end_time": "2018-12-02T00:09:21.136494Z",
     "start_time": "2018-12-02T00:09:21.132442Z"
    }
   },
   "outputs": [],
   "source": [
    "import warnings\n",
    "warnings.filterwarnings('ignore')"
   ]
  },
  {
   "cell_type": "code",
   "execution_count": 2,
   "metadata": {
    "ExecuteTime": {
     "end_time": "2018-12-02T00:09:21.809090Z",
     "start_time": "2018-12-02T00:09:21.138949Z"
    }
   },
   "outputs": [],
   "source": [
    "import pandas as pd\n",
    "import numpy as np"
   ]
  },
  {
   "cell_type": "code",
   "execution_count": 3,
   "metadata": {
    "ExecuteTime": {
     "end_time": "2018-12-02T00:09:21.829553Z",
     "start_time": "2018-12-02T00:09:21.812821Z"
    }
   },
   "outputs": [],
   "source": [
    "df = pd.read_csv(\"../data/final.csv\")\n",
    "\n",
    "df_contested = df[df.TIGHT_RACE == True].reset_index(drop=True)\n",
    "df_not_contested = df[df.TIGHT_RACE == False].reset_index(drop=True)\n",
    "sample = np.random.choice(range(df_contested.shape[0]), size=df_not_contested.shape[0], replace=True)\n",
    "df_contested_bootstrapped = df_contested.iloc[sample].reset_index(drop=True)\n",
    "frames = [df_not_contested, df_contested_bootstrapped]\n",
    "df_new = pd.concat(frames)\n",
    "df = df_new"
   ]
  },
  {
   "cell_type": "code",
   "execution_count": 4,
   "metadata": {
    "ExecuteTime": {
     "end_time": "2018-12-02T00:09:22.579363Z",
     "start_time": "2018-12-02T00:09:21.832156Z"
    }
   },
   "outputs": [],
   "source": [
    "from sklearn.preprocessing import LabelEncoder"
   ]
  },
  {
   "cell_type": "code",
   "execution_count": 5,
   "metadata": {
    "ExecuteTime": {
     "end_time": "2018-12-02T00:09:22.587400Z",
     "start_time": "2018-12-02T00:09:22.581818Z"
    }
   },
   "outputs": [],
   "source": [
    "for column in df.columns:\n",
    "    if df[column].dtype == type(object):\n",
    "        le = LabelEncoder()\n",
    "        df[column] = le.fit_transform(df[column])"
   ]
  },
  {
   "cell_type": "code",
   "execution_count": 6,
   "metadata": {
    "ExecuteTime": {
     "end_time": "2018-12-02T00:09:22.657731Z",
     "start_time": "2018-12-02T00:09:22.589453Z"
    }
   },
   "outputs": [],
   "source": [
    "from sklearn.model_selection import StratifiedKFold"
   ]
  },
  {
   "cell_type": "code",
   "execution_count": 7,
   "metadata": {
    "ExecuteTime": {
     "end_time": "2018-12-02T00:09:22.668475Z",
     "start_time": "2018-12-02T00:09:22.659958Z"
    }
   },
   "outputs": [],
   "source": [
    "X_kf = df.drop(columns=['TIGHT_RACE'])\n",
    "y_kf = df.TIGHT_RACE\n",
    "\n",
    "X = df.drop(columns=['WINNER'])\n",
    "y = df.WINNER\n",
    "\n",
    "skf = StratifiedKFold(n_splits=10)"
   ]
  },
  {
   "cell_type": "markdown",
   "metadata": {},
   "source": [
    "# Decision Tree"
   ]
  },
  {
   "cell_type": "code",
   "execution_count": 8,
   "metadata": {
    "ExecuteTime": {
     "end_time": "2018-12-02T00:09:22.732331Z",
     "start_time": "2018-12-02T00:09:22.670486Z"
    }
   },
   "outputs": [],
   "source": [
    "from sklearn.tree import DecisionTreeClassifier"
   ]
  },
  {
   "cell_type": "code",
   "execution_count": 9,
   "metadata": {
    "ExecuteTime": {
     "end_time": "2018-12-02T00:09:22.781080Z",
     "start_time": "2018-12-02T00:09:22.737505Z"
    }
   },
   "outputs": [
    {
     "name": "stdout",
     "output_type": "stream",
     "text": [
      "29 7\n",
      "31 7\n",
      "25 6\n",
      "25 6\n",
      "27 6\n",
      "29 7\n",
      "31 6\n",
      "27 7\n",
      "27 7\n",
      "31 7\n",
      "[0.875, 0.8125, 0.75, 0.8125, 0.9285714285714286, 0.9285714285714286, 0.9285714285714286, 0.7857142857142857, 0.7857142857142857, 0.7142857142857143]\n",
      "0.8321428571428571\n"
     ]
    }
   ],
   "source": [
    "scores = []\n",
    "for train_index, test_index in skf.split(X_kf, y_kf):\n",
    "    # print(\"TRAIN:\", train_index, \"TEST:\", test_index)\n",
    "    X_train, X_test = X.iloc[train_index], X.iloc[test_index]\n",
    "    y_train, y_test = y.iloc[train_index], y.iloc[test_index]\n",
    "    \n",
    "    dt = DecisionTreeClassifier(max_depth=7)\n",
    "    dt.fit(X_train, y_train)\n",
    "    scores.append(dt.score(X_test, y_test))\n",
    "    print(dt.tree_.node_count, dt.tree_.max_depth)\n",
    "    \n",
    "print(scores); print(np.mean(scores))"
   ]
  },
  {
   "cell_type": "markdown",
   "metadata": {},
   "source": [
    "### Use fewer features"
   ]
  },
  {
   "cell_type": "code",
   "execution_count": 10,
   "metadata": {
    "ExecuteTime": {
     "end_time": "2018-12-02T00:09:22.789039Z",
     "start_time": "2018-12-02T00:09:22.783161Z"
    }
   },
   "outputs": [],
   "source": [
    "X_kf = df[['S1_DEM_RATIO','S2_DEM_RATIO', 'S3_DEM_RATIO', 'S1_REP_RATIO', 'S2_REP_RATIO', 'S3_REP_RATIO']]\n",
    "y_kf = df.TIGHT_RACE\n",
    "\n",
    "X = df[['S1_DEM_RATIO','S2_DEM_RATIO', 'S3_DEM_RATIO', 'S1_REP_RATIO', 'S2_REP_RATIO', 'S3_REP_RATIO', 'TIGHT_RACE']]\n",
    "y = df.WINNER\n",
    "\n",
    "skf = StratifiedKFold(n_splits=10, shuffle=True)"
   ]
  },
  {
   "cell_type": "code",
   "execution_count": 11,
   "metadata": {
    "ExecuteTime": {
     "end_time": "2018-12-02T00:09:22.828214Z",
     "start_time": "2018-12-02T00:09:22.791332Z"
    }
   },
   "outputs": [
    {
     "name": "stdout",
     "output_type": "stream",
     "text": [
      "[0.875, 1.0, 0.8125, 0.875, 0.9285714285714286, 0.8571428571428571, 0.8571428571428571, 1.0, 0.8571428571428571, 1.0]\n",
      "0.90625\n"
     ]
    }
   ],
   "source": [
    "scores = []\n",
    "for train_index, test_index in skf.split(X_kf, y_kf):\n",
    "    X_train, X_test = X.iloc[train_index], X.iloc[test_index]\n",
    "    y_train, y_test = y.iloc[train_index], y.iloc[test_index]\n",
    "    \n",
    "    dt = DecisionTreeClassifier(max_depth=5)\n",
    "    dt.fit(X_train, y_train)\n",
    "    scores.append(dt.score(X_test, y_test))\n",
    "    # print(dt.tree_.max_depth)\n",
    "    \n",
    "print(scores); print(np.mean(scores))"
   ]
  },
  {
   "cell_type": "markdown",
   "metadata": {},
   "source": [
    "# Random Forest"
   ]
  },
  {
   "cell_type": "code",
   "execution_count": 12,
   "metadata": {
    "ExecuteTime": {
     "end_time": "2018-12-02T00:09:22.847136Z",
     "start_time": "2018-12-02T00:09:22.829987Z"
    }
   },
   "outputs": [],
   "source": [
    "from sklearn.ensemble import RandomForestClassifier"
   ]
  },
  {
   "cell_type": "code",
   "execution_count": 13,
   "metadata": {
    "ExecuteTime": {
     "end_time": "2018-12-02T00:09:23.479151Z",
     "start_time": "2018-12-02T00:09:22.848771Z"
    }
   },
   "outputs": [
    {
     "name": "stdout",
     "output_type": "stream",
     "text": [
      "[0.9375, 0.9375, 1.0, 0.875, 0.9285714285714286, 0.7857142857142857, 0.9285714285714286, 0.9285714285714286, 1.0, 0.8571428571428571]\n",
      "0.9178571428571429\n"
     ]
    }
   ],
   "source": [
    "scores = []\n",
    "for train_index, test_index in skf.split(X_kf, y_kf):\n",
    "    X_train, X_test = X.iloc[train_index], X.iloc[test_index]\n",
    "    y_train, y_test = y.iloc[train_index], y.iloc[test_index]\n",
    "    \n",
    "    rf = RandomForestClassifier(max_depth=7, n_estimators=100)\n",
    "    rf.fit(X_train, y_train)\n",
    "    scores.append(rf.score(X_test, y_test))\n",
    "    # print(dt.tree_.max_depth)\n",
    "    \n",
    "print(scores); print(np.mean(scores))"
   ]
  },
  {
   "cell_type": "markdown",
   "metadata": {},
   "source": [
    "# Boosted Trees"
   ]
  },
  {
   "cell_type": "code",
   "execution_count": 14,
   "metadata": {
    "ExecuteTime": {
     "end_time": "2018-12-02T00:09:23.484393Z",
     "start_time": "2018-12-02T00:09:23.480957Z"
    }
   },
   "outputs": [],
   "source": [
    "from sklearn.ensemble import GradientBoostingClassifier"
   ]
  },
  {
   "cell_type": "code",
   "execution_count": 15,
   "metadata": {
    "ExecuteTime": {
     "end_time": "2018-12-02T00:09:23.769978Z",
     "start_time": "2018-12-02T00:09:23.487116Z"
    }
   },
   "outputs": [
    {
     "name": "stdout",
     "output_type": "stream",
     "text": [
      "[0.875, 0.8125, 1.0, 0.9375, 1.0, 0.9285714285714286, 0.9285714285714286, 0.9285714285714286, 0.7857142857142857, 0.9285714285714286]\n",
      "0.9125\n"
     ]
    }
   ],
   "source": [
    "scores = []\n",
    "for train_index, test_index in skf.split(X_kf, y_kf):\n",
    "    X_train, X_test = X.iloc[train_index], X.iloc[test_index]\n",
    "    y_train, y_test = y.iloc[train_index], y.iloc[test_index]\n",
    "    \n",
    "    gbt = GradientBoostingClassifier(n_estimators=100, max_depth=2)\n",
    "    gbt.fit(X_train, y_train)\n",
    "    scores.append(gbt.score(X_test, y_test))\n",
    "    \n",
    "print(scores); print(np.mean(scores))"
   ]
  },
  {
   "cell_type": "markdown",
   "metadata": {},
   "source": [
    "test the accuracy on the tight races"
   ]
  },
  {
   "cell_type": "code",
   "execution_count": 16,
   "metadata": {
    "ExecuteTime": {
     "end_time": "2018-12-02T00:09:23.776402Z",
     "start_time": "2018-12-02T00:09:23.771598Z"
    }
   },
   "outputs": [],
   "source": [
    "tight_only = df[df.TIGHT_RACE]"
   ]
  },
  {
   "cell_type": "code",
   "execution_count": 17,
   "metadata": {
    "ExecuteTime": {
     "end_time": "2018-12-02T00:09:23.786793Z",
     "start_time": "2018-12-02T00:09:23.779097Z"
    }
   },
   "outputs": [],
   "source": [
    "tight_X = tight_only[['S1_DEM_RATIO','S2_DEM_RATIO', 'S3_DEM_RATIO', 'S1_REP_RATIO', 'S2_REP_RATIO', 'S3_REP_RATIO', 'TIGHT_RACE']]\n",
    "tight_y = tight_only.WINNER"
   ]
  },
  {
   "cell_type": "code",
   "execution_count": 36,
   "metadata": {
    "ExecuteTime": {
     "end_time": "2018-12-02T00:16:29.965155Z",
     "start_time": "2018-12-02T00:16:29.656614Z"
    }
   },
   "outputs": [
    {
     "name": "stdout",
     "output_type": "stream",
     "text": [
      "0.9392857142857143 1.0 1.0\n"
     ]
    }
   ],
   "source": [
    "scores = []\n",
    "score_tight = []\n",
    "tight_from_test = []\n",
    "for train_index, test_index in skf.split(X_kf, y_kf):\n",
    "    X_train, X_test = X.iloc[train_index], X.iloc[test_index]\n",
    "    y_train, y_test = y.iloc[train_index], y.iloc[test_index]\n",
    "    \n",
    "    gbt = GradientBoostingClassifier(n_estimators=100, max_depth=2)\n",
    "    gbt.fit(X_train, y_train)\n",
    "    scores.append(gbt.score(X_test, y_test))\n",
    "    score_tight.append(gbt.score(tight_X, tight_y))\n",
    "    tight_from_test.append(gbt.score(X_test[X_test.TIGHT_RACE], y_test[X_test.TIGHT_RACE]))\n",
    "    \n",
    "print(np.mean(scores), np.mean(score_tight), np.mean(tight_from_test))"
   ]
  },
  {
   "cell_type": "code",
   "execution_count": null,
   "metadata": {},
   "outputs": [],
   "source": []
  }
 ],
 "metadata": {
  "kernelspec": {
   "display_name": "Python 3",
   "language": "python",
   "name": "python3"
  },
  "language_info": {
   "codemirror_mode": {
    "name": "ipython",
    "version": 3
   },
   "file_extension": ".py",
   "mimetype": "text/x-python",
   "name": "python",
   "nbconvert_exporter": "python",
   "pygments_lexer": "ipython3",
   "version": "3.6.6"
  }
 },
 "nbformat": 4,
 "nbformat_minor": 2
}
