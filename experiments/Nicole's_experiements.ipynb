{
 "cells": [
  {
   "cell_type": "code",
   "execution_count": 1,
   "metadata": {
    "ExecuteTime": {
     "end_time": "2018-12-01T22:17:29.720805Z",
     "start_time": "2018-12-01T22:17:29.449009Z"
    }
   },
   "outputs": [],
   "source": [
    "import pandas as pd\n",
    "import numpy as np"
   ]
  },
  {
   "cell_type": "code",
   "execution_count": 2,
   "metadata": {
    "ExecuteTime": {
     "end_time": "2018-12-01T22:18:12.682789Z",
     "start_time": "2018-12-01T22:18:12.664798Z"
    }
   },
   "outputs": [],
   "source": [
    "df = pd.read_csv(\"../data/final.csv\")\n",
    "\n",
    "df_contested = df[df.TIGHT_RACE == True].reset_index(drop=True)\n",
    "df_not_contested = df[df.TIGHT_RACE == False].reset_index(drop=True)\n",
    "sample = np.random.choice(range(df_contested.shape[0]), size=df_not_contested.shape[0], replace=True)\n",
    "df_contested_bootstrapped = df_contested.iloc[sample].reset_index(drop=True)\n",
    "frames = [df_not_contested, df_contested_bootstrapped]\n",
    "df_new = pd.concat(frames)\n",
    "df = df_new"
   ]
  },
  {
   "cell_type": "code",
   "execution_count": 3,
   "metadata": {
    "ExecuteTime": {
     "end_time": "2018-12-01T22:18:19.693254Z",
     "start_time": "2018-12-01T22:18:19.444586Z"
    }
   },
   "outputs": [],
   "source": [
    "from sklearn.preprocessing import LabelEncoder"
   ]
  },
  {
   "cell_type": "code",
   "execution_count": 4,
   "metadata": {
    "ExecuteTime": {
     "end_time": "2018-12-01T22:18:27.130905Z",
     "start_time": "2018-12-01T22:18:27.123129Z"
    }
   },
   "outputs": [],
   "source": [
    "for column in df.columns:\n",
    "    if df[column].dtype == type(object):\n",
    "        le = LabelEncoder()\n",
    "        df[column] = le.fit_transform(df[column])"
   ]
  },
  {
   "cell_type": "code",
   "execution_count": 5,
   "metadata": {
    "ExecuteTime": {
     "end_time": "2018-12-01T22:18:38.283948Z",
     "start_time": "2018-12-01T22:18:38.261486Z"
    }
   },
   "outputs": [],
   "source": [
    "from sklearn.model_selection import StratifiedKFold"
   ]
  },
  {
   "cell_type": "code",
   "execution_count": 6,
   "metadata": {
    "ExecuteTime": {
     "end_time": "2018-12-01T22:26:04.151895Z",
     "start_time": "2018-12-01T22:26:04.144157Z"
    }
   },
   "outputs": [],
   "source": [
    "X_kf = df.drop(columns=['TIGHT_RACE'])\n",
    "y_kf = df.TIGHT_RACE\n",
    "\n",
    "X = df.drop(columns=['WINNER'])\n",
    "y = df.WINNER\n",
    "\n",
    "skf = StratifiedKFold(n_splits=10)"
   ]
  },
  {
   "cell_type": "markdown",
   "metadata": {},
   "source": [
    "# Decision Tree"
   ]
  },
  {
   "cell_type": "code",
   "execution_count": 7,
   "metadata": {
    "ExecuteTime": {
     "end_time": "2018-12-01T22:27:08.427016Z",
     "start_time": "2018-12-01T22:27:08.395019Z"
    }
   },
   "outputs": [],
   "source": [
    "from sklearn.tree import DecisionTreeClassifier"
   ]
  },
  {
   "cell_type": "code",
   "execution_count": 20,
   "metadata": {
    "ExecuteTime": {
     "end_time": "2018-12-01T22:30:12.986015Z",
     "start_time": "2018-12-01T22:30:12.940001Z"
    }
   },
   "outputs": [
    {
     "name": "stdout",
     "output_type": "stream",
     "text": [
      "27 7\n",
      "29 6\n",
      "25 6\n",
      "25 6\n",
      "29 7\n",
      "31 7\n",
      "29 6\n",
      "31 7\n",
      "27 7\n",
      "29 7\n",
      "[0.8125, 0.8125, 0.75, 0.625, 0.875, 0.9285714285714286, 1.0, 0.8571428571428571, 0.8571428571428571, 0.8571428571428571]\n",
      "0.8375\n"
     ]
    }
   ],
   "source": [
    "scores = []\n",
    "for train_index, test_index in skf.split(X_kf, y_kf):\n",
    "    # print(\"TRAIN:\", train_index, \"TEST:\", test_index)\n",
    "    X_train, X_test = X.iloc[train_index], X.iloc[test_index]\n",
    "    y_train, y_test = y.iloc[train_index], y.iloc[test_index]\n",
    "    \n",
    "    dt = DecisionTreeClassifier(max_depth=7)\n",
    "    dt.fit(X_train, y_train)\n",
    "    scores.append(dt.score(X_test, y_test))\n",
    "    print(dt.tree_.node_count, dt.tree_.max_depth)\n",
    "    \n",
    "print(scores); print(np.mean(scores))"
   ]
  },
  {
   "cell_type": "markdown",
   "metadata": {},
   "source": [
    "### Use fewer features"
   ]
  },
  {
   "cell_type": "code",
   "execution_count": 27,
   "metadata": {
    "ExecuteTime": {
     "end_time": "2018-12-01T22:34:19.585165Z",
     "start_time": "2018-12-01T22:34:19.580236Z"
    }
   },
   "outputs": [],
   "source": [
    "X_kf = df[['S1_DEM_RATIO','S2_DEM_RATIO', 'S3_DEM_RATIO', 'S1_REP_RATIO', 'S2_REP_RATIO', 'S3_REP_RATIO']]\n",
    "y_kf = df.TIGHT_RACE\n",
    "\n",
    "X = X_kf\n",
    "y = df.WINNER\n",
    "\n",
    "skf = StratifiedKFold(n_splits=10, shuffle=True)"
   ]
  },
  {
   "cell_type": "code",
   "execution_count": 29,
   "metadata": {
    "ExecuteTime": {
     "end_time": "2018-12-01T22:34:33.467788Z",
     "start_time": "2018-12-01T22:34:33.425322Z"
    }
   },
   "outputs": [
    {
     "name": "stdout",
     "output_type": "stream",
     "text": [
      "5\n",
      "[0.05432249 0.44245417 0.13356381 0.         0.34362839 0.02603114]\n",
      "5\n",
      "[0.1735043  0.34635139 0.14721226 0.25712549 0.07580656 0.        ]\n",
      "5\n",
      "[0.         0.67039847 0.03073109 0.12688965 0.17198079 0.        ]\n",
      "5\n",
      "[0.         0.41195506 0.12180416 0.15969195 0.27685129 0.02969754]\n",
      "5\n",
      "[0.13099654 0.43573383 0.0802899  0.0575851  0.26903405 0.02636057]\n",
      "5\n",
      "[0.07390128 0.37963235 0.23408029 0.02956907 0.25498729 0.02782971]\n",
      "5\n",
      "[0.01769009 0.38582412 0.13151257 0.027253   0.39549226 0.04222795]\n",
      "5\n",
      "[0.07945871 0.37331878 0.08692582 0.28446406 0.14642604 0.02940659]\n",
      "5\n",
      "[0.02451511 0.44881646 0.02846915 0.13934902 0.33071118 0.02813908]\n",
      "5\n",
      "[0.         0.39815309 0.14324745 0.1106718  0.25809174 0.08983591]\n",
      "[0.875, 0.8125, 0.875, 0.875, 0.875, 0.8571428571428571, 0.8571428571428571, 0.9285714285714286, 0.9285714285714286, 0.8571428571428571]\n",
      "0.8741071428571429\n"
     ]
    }
   ],
   "source": [
    "scores = []\n",
    "for train_index, test_index in skf.split(X_kf, y_kf):\n",
    "    # print(\"TRAIN:\", train_index, \"TEST:\", test_index)\n",
    "    X_train, X_test = X.iloc[train_index], X.iloc[test_index]\n",
    "    y_train, y_test = y.iloc[train_index], y.iloc[test_index]\n",
    "    \n",
    "    dt = DecisionTreeClassifier(max_depth=5)\n",
    "    dt.fit(X_train, y_train)\n",
    "    scores.append(dt.score(X_test, y_test))\n",
    "    print(dt.tree_.max_depth)\n",
    "    print(dt.feature_importances_)\n",
    "    \n",
    "print(scores); print(np.mean(scores))"
   ]
  },
  {
   "cell_type": "code",
   "execution_count": null,
   "metadata": {},
   "outputs": [],
   "source": []
  }
 ],
 "metadata": {
  "kernelspec": {
   "display_name": "Python 3",
   "language": "python",
   "name": "python3"
  },
  "language_info": {
   "codemirror_mode": {
    "name": "ipython",
    "version": 3
   },
   "file_extension": ".py",
   "mimetype": "text/x-python",
   "name": "python",
   "nbconvert_exporter": "python",
   "pygments_lexer": "ipython3",
   "version": "3.6.6"
  }
 },
 "nbformat": 4,
 "nbformat_minor": 2
}
