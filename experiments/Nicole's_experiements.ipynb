{
 "cells": [
  {
   "cell_type": "code",
   "execution_count": 1,
   "metadata": {
    "ExecuteTime": {
     "end_time": "2018-12-03T05:11:54.220875Z",
     "start_time": "2018-12-03T05:11:54.214037Z"
    }
   },
   "outputs": [],
   "source": [
    "import warnings\n",
    "warnings.filterwarnings('ignore')"
   ]
  },
  {
   "cell_type": "code",
   "execution_count": 2,
   "metadata": {
    "ExecuteTime": {
     "end_time": "2018-12-03T05:11:54.487938Z",
     "start_time": "2018-12-03T05:11:54.224569Z"
    }
   },
   "outputs": [],
   "source": [
    "import pandas as pd\n",
    "import numpy as np"
   ]
  },
  {
   "cell_type": "code",
   "execution_count": 3,
   "metadata": {
    "ExecuteTime": {
     "end_time": "2018-12-03T05:11:54.500390Z",
     "start_time": "2018-12-03T05:11:54.490018Z"
    }
   },
   "outputs": [],
   "source": [
    "df = pd.read_csv(\"../data/final.csv\")"
   ]
  },
  {
   "cell_type": "code",
   "execution_count": 4,
   "metadata": {
    "ExecuteTime": {
     "end_time": "2018-12-03T05:11:54.742070Z",
     "start_time": "2018-12-03T05:11:54.503556Z"
    }
   },
   "outputs": [],
   "source": [
    "from sklearn.preprocessing import LabelEncoder"
   ]
  },
  {
   "cell_type": "code",
   "execution_count": 5,
   "metadata": {
    "ExecuteTime": {
     "end_time": "2018-12-03T05:11:54.753731Z",
     "start_time": "2018-12-03T05:11:54.745974Z"
    }
   },
   "outputs": [],
   "source": [
    "for column in df.columns:\n",
    "    if df[column].dtype == type(object):\n",
    "        le = LabelEncoder()\n",
    "        df[column] = le.fit_transform(df[column])"
   ]
  },
  {
   "cell_type": "code",
   "execution_count": 6,
   "metadata": {
    "ExecuteTime": {
     "end_time": "2018-12-03T05:11:54.771070Z",
     "start_time": "2018-12-03T05:11:54.756293Z"
    }
   },
   "outputs": [],
   "source": [
    "from sklearn.model_selection import StratifiedKFold"
   ]
  },
  {
   "cell_type": "code",
   "execution_count": 7,
   "metadata": {
    "ExecuteTime": {
     "end_time": "2018-12-03T05:11:54.781087Z",
     "start_time": "2018-12-03T05:11:54.772837Z"
    }
   },
   "outputs": [],
   "source": [
    "X_kf = df.drop(columns=['TIGHT_RACE'])\n",
    "y_kf = df.TIGHT_RACE\n",
    "\n",
    "X_ = df.drop(columns=['WINNER'])\n",
    "y_ = df.WINNER\n",
    "\n",
    "skf = StratifiedKFold(n_splits=10)"
   ]
  },
  {
   "cell_type": "code",
   "execution_count": 8,
   "metadata": {
    "ExecuteTime": {
     "end_time": "2018-12-03T05:11:54.786194Z",
     "start_time": "2018-12-03T05:11:54.782455Z"
    }
   },
   "outputs": [],
   "source": [
    "def oversample(data_f):\n",
    "    df_contested = data_f[df.TIGHT_RACE == True].reset_index(drop=True)\n",
    "    df_not_contested = data_f[df.TIGHT_RACE == False].reset_index(drop=True)\n",
    "    sample = np.random.choice(range(df_contested.shape[0]), size=df_not_contested.shape[0], replace=True)\n",
    "    df_contested_bootstrapped = df_contested.iloc[sample].reset_index(drop=True)\n",
    "    frames = [df_not_contested, df_contested_bootstrapped]\n",
    "    df_new = pd.concat(frames)\n",
    "    return df_new"
   ]
  },
  {
   "cell_type": "markdown",
   "metadata": {},
   "source": [
    "# Decision Tree"
   ]
  },
  {
   "cell_type": "code",
   "execution_count": 9,
   "metadata": {
    "ExecuteTime": {
     "end_time": "2018-12-03T05:11:54.804946Z",
     "start_time": "2018-12-03T05:11:54.788245Z"
    }
   },
   "outputs": [],
   "source": [
    "from sklearn.tree import DecisionTreeClassifier"
   ]
  },
  {
   "cell_type": "code",
   "execution_count": 10,
   "metadata": {
    "ExecuteTime": {
     "end_time": "2018-12-03T05:11:54.876570Z",
     "start_time": "2018-12-03T05:11:54.806626Z"
    }
   },
   "outputs": [
    {
     "name": "stdout",
     "output_type": "stream",
     "text": [
      "[0.7272727272727273, 0.6363636363636364, 0.6, 1.0, 1.0, 1.0, 1.0, 1.0, 0.8888888888888888, 1.0]\n",
      "0.8852525252525252\n"
     ]
    }
   ],
   "source": [
    "scores = []\n",
    "for train_index, test_index in skf.split(X_kf, y_kf):\n",
    "    X_test = X_.iloc[test_index]\n",
    "    y_test = y_.iloc[test_index]\n",
    "    \n",
    "    oversampled_df = oversample(df)\n",
    "    X = oversampled_df.drop(columns=['WINNER'])\n",
    "    y = oversampled_df.WINNER\n",
    "    \n",
    "    # print(\"TRAIN:\", train_index, \"TEST:\", test_index)\n",
    "    X_train = X.iloc[train_index]\n",
    "    y_train = y.iloc[train_index]\n",
    "    \n",
    "    dt = DecisionTreeClassifier(max_depth=7)\n",
    "    dt.fit(X_train, y_train)\n",
    "    scores.append(dt.score(X_test, y_test))\n",
    "    #print(dt.tree_.node_count, dt.tree_.max_depth)\n",
    "    \n",
    "print(scores); print(np.mean(scores))"
   ]
  },
  {
   "cell_type": "markdown",
   "metadata": {},
   "source": [
    "### Use fewer features"
   ]
  },
  {
   "cell_type": "code",
   "execution_count": 11,
   "metadata": {
    "ExecuteTime": {
     "end_time": "2018-12-03T05:11:54.883976Z",
     "start_time": "2018-12-03T05:11:54.878752Z"
    }
   },
   "outputs": [],
   "source": [
    "X_kf = df[['S1_DEM_RATIO','S2_DEM_RATIO', 'S3_DEM_RATIO', 'S1_REP_RATIO', 'S2_REP_RATIO', 'S3_REP_RATIO']]\n",
    "y_kf = df.TIGHT_RACE\n",
    "\n",
    "X_ = df[['S1_DEM_RATIO','S2_DEM_RATIO', 'S3_DEM_RATIO', 'S1_REP_RATIO', 'S2_REP_RATIO', 'S3_REP_RATIO', 'TIGHT_RACE']]\n",
    "y_ = df.WINNER\n",
    "\n",
    "skf = StratifiedKFold(n_splits=10, shuffle=True)"
   ]
  },
  {
   "cell_type": "code",
   "execution_count": 12,
   "metadata": {
    "ExecuteTime": {
     "end_time": "2018-12-03T05:11:54.952093Z",
     "start_time": "2018-12-03T05:11:54.885434Z"
    }
   },
   "outputs": [
    {
     "name": "stdout",
     "output_type": "stream",
     "text": [
      "[1.0, 1.0, 1.0, 0.9, 1.0, 0.7777777777777778, 1.0, 1.0, 0.8888888888888888, 1.0]\n",
      "0.9566666666666667\n"
     ]
    }
   ],
   "source": [
    "scores = []\n",
    "for train_index, test_index in skf.split(X_kf, y_kf):\n",
    "    \n",
    "    X_test = X_.iloc[test_index]\n",
    "    y_test = y_.iloc[test_index]\n",
    "    \n",
    "    oversampled_df = oversample(df)\n",
    "    X = oversampled_df[['S1_DEM_RATIO','S2_DEM_RATIO', 'S3_DEM_RATIO', 'S1_REP_RATIO', 'S2_REP_RATIO', 'S3_REP_RATIO', 'TIGHT_RACE']]\n",
    "    y = oversampled_df.WINNER\n",
    "    \n",
    "    # print(\"TRAIN:\", train_index, \"TEST:\", test_index)\n",
    "    X_train = X.iloc[train_index]\n",
    "    y_train = y.iloc[train_index]\n",
    "    \n",
    "    dt = DecisionTreeClassifier(max_depth=5)\n",
    "    dt.fit(X_train, y_train)\n",
    "    scores.append(dt.score(X_test, y_test))\n",
    "    # print(dt.tree_.max_depth)\n",
    "    \n",
    "print(scores); print(np.mean(scores))"
   ]
  },
  {
   "cell_type": "markdown",
   "metadata": {},
   "source": [
    "# Random Forest"
   ]
  },
  {
   "cell_type": "code",
   "execution_count": 13,
   "metadata": {
    "ExecuteTime": {
     "end_time": "2018-12-03T05:11:54.967973Z",
     "start_time": "2018-12-03T05:11:54.953928Z"
    }
   },
   "outputs": [],
   "source": [
    "from sklearn.ensemble import RandomForestClassifier"
   ]
  },
  {
   "cell_type": "code",
   "execution_count": 14,
   "metadata": {
    "ExecuteTime": {
     "end_time": "2018-12-03T05:11:55.615232Z",
     "start_time": "2018-12-03T05:11:54.970351Z"
    }
   },
   "outputs": [
    {
     "name": "stdout",
     "output_type": "stream",
     "text": [
      "[0.9090909090909091, 0.9090909090909091, 0.9, 0.8, 1.0, 0.8888888888888888, 1.0, 1.0, 1.0, 0.8888888888888888]\n",
      "0.9295959595959596\n"
     ]
    }
   ],
   "source": [
    "scores = []\n",
    "for train_index, test_index in skf.split(X_kf, y_kf):\n",
    "    X_test = X_.iloc[test_index]\n",
    "    y_test = y_.iloc[test_index]\n",
    "    \n",
    "    oversampled_df = oversample(df)\n",
    "    X = oversampled_df[['S1_DEM_RATIO','S2_DEM_RATIO', 'S3_DEM_RATIO', 'S1_REP_RATIO', 'S2_REP_RATIO', 'S3_REP_RATIO', 'TIGHT_RACE']]\n",
    "    y = oversampled_df.WINNER\n",
    "    \n",
    "    # print(\"TRAIN:\", train_index, \"TEST:\", test_index)\n",
    "    X_train = X.iloc[train_index]\n",
    "    y_train = y.iloc[train_index]\n",
    "    \n",
    "    rf = RandomForestClassifier(max_depth=7, n_estimators=100)\n",
    "    rf.fit(X_train, y_train)\n",
    "    scores.append(rf.score(X_test, y_test))\n",
    "    # print(dt.tree_.max_depth)\n",
    "    \n",
    "print(scores); print(np.mean(scores))"
   ]
  },
  {
   "cell_type": "markdown",
   "metadata": {},
   "source": [
    "# Boosted Trees"
   ]
  },
  {
   "cell_type": "code",
   "execution_count": 15,
   "metadata": {
    "ExecuteTime": {
     "end_time": "2018-12-03T05:11:55.621876Z",
     "start_time": "2018-12-03T05:11:55.616924Z"
    }
   },
   "outputs": [],
   "source": [
    "from sklearn.ensemble import GradientBoostingClassifier"
   ]
  },
  {
   "cell_type": "code",
   "execution_count": 16,
   "metadata": {
    "ExecuteTime": {
     "end_time": "2018-12-03T05:11:55.911353Z",
     "start_time": "2018-12-03T05:11:55.623848Z"
    }
   },
   "outputs": [
    {
     "name": "stdout",
     "output_type": "stream",
     "text": [
      "[1.0, 1.0, 1.0, 0.9, 0.7777777777777778, 1.0, 1.0, 0.7777777777777778, 1.0, 0.8888888888888888]\n",
      "0.9344444444444445\n"
     ]
    }
   ],
   "source": [
    "scores = []\n",
    "for train_index, test_index in skf.split(X_kf, y_kf):\n",
    "    X_test = X_.iloc[test_index]\n",
    "    y_test = y_.iloc[test_index]\n",
    "    \n",
    "    oversampled_df = oversample(df)\n",
    "    X = oversampled_df[['S1_DEM_RATIO','S2_DEM_RATIO', 'S3_DEM_RATIO', 'S1_REP_RATIO', 'S2_REP_RATIO', 'S3_REP_RATIO', 'TIGHT_RACE']]\n",
    "    y = oversampled_df.WINNER\n",
    "    \n",
    "    # print(\"TRAIN:\", train_index, \"TEST:\", test_index)\n",
    "    X_train = X.iloc[train_index]\n",
    "    y_train = y.iloc[train_index]\n",
    "    \n",
    "    gbt = GradientBoostingClassifier(n_estimators=100, max_depth=2)\n",
    "    gbt.fit(X_train, y_train)\n",
    "    scores.append(gbt.score(X_test, y_test))\n",
    "    \n",
    "print(scores); print(np.mean(scores))"
   ]
  },
  {
   "cell_type": "markdown",
   "metadata": {},
   "source": [
    "test the accuracy on the tight races"
   ]
  },
  {
   "cell_type": "code",
   "execution_count": 17,
   "metadata": {
    "ExecuteTime": {
     "end_time": "2018-12-03T05:11:55.917538Z",
     "start_time": "2018-12-03T05:11:55.913203Z"
    }
   },
   "outputs": [],
   "source": [
    "tight_only = df[df.TIGHT_RACE]"
   ]
  },
  {
   "cell_type": "code",
   "execution_count": 18,
   "metadata": {
    "ExecuteTime": {
     "end_time": "2018-12-03T05:11:55.931680Z",
     "start_time": "2018-12-03T05:11:55.923916Z"
    }
   },
   "outputs": [],
   "source": [
    "tight_X = tight_only[['S1_DEM_RATIO','S2_DEM_RATIO', 'S3_DEM_RATIO', 'S1_REP_RATIO', 'S2_REP_RATIO', 'S3_REP_RATIO', 'TIGHT_RACE']]\n",
    "tight_y = tight_only.WINNER"
   ]
  },
  {
   "cell_type": "code",
   "execution_count": 19,
   "metadata": {
    "ExecuteTime": {
     "end_time": "2018-12-03T05:11:56.354066Z",
     "start_time": "2018-12-03T05:11:55.934060Z"
    }
   },
   "outputs": [
    {
     "name": "stdout",
     "output_type": "stream",
     "text": [
      "0.9333333333333333 0.9045454545454545 0.85\n"
     ]
    }
   ],
   "source": [
    "scores = []\n",
    "score_tight = []\n",
    "tight_from_test = []\n",
    "for train_index, test_index in skf.split(X_kf, y_kf):\n",
    "    X_test = X_.iloc[test_index]\n",
    "    y_test = y_.iloc[test_index]\n",
    "    \n",
    "    oversampled_df = oversample(df)\n",
    "    X = oversampled_df[['S1_DEM_RATIO','S2_DEM_RATIO', 'S3_DEM_RATIO', 'S1_REP_RATIO', 'S2_REP_RATIO', 'S3_REP_RATIO', 'TIGHT_RACE']]\n",
    "    y = oversampled_df.WINNER\n",
    "    \n",
    "    # print(\"TRAIN:\", train_index, \"TEST:\", test_index)\n",
    "    X_train = X.iloc[train_index]\n",
    "    y_train = y.iloc[train_index]\n",
    "    \n",
    "    gbt = GradientBoostingClassifier(n_estimators=100)\n",
    "    gbt.fit(X_train, y_train)\n",
    "    scores.append(gbt.score(X_test, y_test))\n",
    "    score_tight.append(gbt.score(tight_X, tight_y))\n",
    "    tight_from_test.append(gbt.score(X_test[X_test.TIGHT_RACE], y_test[X_test.TIGHT_RACE]))\n",
    "    \n",
    "print(np.mean(scores), np.mean(score_tight), np.mean(tight_from_test))"
   ]
  },
  {
   "cell_type": "code",
   "execution_count": null,
   "metadata": {},
   "outputs": [],
   "source": []
  }
 ],
 "metadata": {
  "kernelspec": {
   "display_name": "Python 3",
   "language": "python",
   "name": "python3"
  },
  "language_info": {
   "codemirror_mode": {
    "name": "ipython",
    "version": 3
   },
   "file_extension": ".py",
   "mimetype": "text/x-python",
   "name": "python",
   "nbconvert_exporter": "python",
   "pygments_lexer": "ipython3",
   "version": "3.6.6"
  }
 },
 "nbformat": 4,
 "nbformat_minor": 2
}
