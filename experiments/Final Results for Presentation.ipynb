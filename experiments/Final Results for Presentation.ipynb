{
 "cells": [
  {
   "cell_type": "code",
   "execution_count": 1,
   "metadata": {},
   "outputs": [],
   "source": [
    "import warnings\n",
    "warnings.filterwarnings('ignore')\n",
    "\n",
    "import pandas as pd\n",
    "import numpy as np\n",
    "from sklearn.preprocessing import LabelEncoder\n",
    "from sklearn.model_selection import StratifiedKFold\n",
    "from sklearn.tree import DecisionTreeClassifier\n",
    "from sklearn.ensemble import RandomForestClassifier\n",
    "from sklearn.ensemble import GradientBoostingClassifier"
   ]
  },
  {
   "cell_type": "markdown",
   "metadata": {},
   "source": [
    "## Helper Functions"
   ]
  },
  {
   "cell_type": "code",
   "execution_count": 2,
   "metadata": {},
   "outputs": [],
   "source": [
    "def encode(df):\n",
    "    \"\"\"\n",
    "    Uses LabelEncoder to encode disrecete values\n",
    "    \"\"\"\n",
    "    for column in df.columns:\n",
    "        if df[column].dtype == type(object):\n",
    "            le = LabelEncoder()\n",
    "            df[column] = le.fit_transform(df[column])"
   ]
  },
  {
   "cell_type": "code",
   "execution_count": 3,
   "metadata": {},
   "outputs": [],
   "source": [
    "def oversample(data_f):\n",
    "    \"\"\"\n",
    "    Oversamples the highly contested races\n",
    "    \"\"\"\n",
    "    df_contested = data_f[data_f.TIGHT_RACE == True].reset_index(drop=True)\n",
    "    df_not_contested = data_f[data_f.TIGHT_RACE == False].reset_index(drop=True)\n",
    "    sample = np.random.choice(range(df_contested.shape[0]), size=df_not_contested.shape[0], replace=True)\n",
    "    df_contested_bootstrapped = df_contested.iloc[sample].reset_index(drop=True)\n",
    "    frames = [df_not_contested, df_contested_bootstrapped]\n",
    "    df_new = pd.concat(frames)\n",
    "    return df_new"
   ]
  },
  {
   "cell_type": "markdown",
   "metadata": {},
   "source": [
    "## Datasets"
   ]
  },
  {
   "cell_type": "markdown",
   "metadata": {},
   "source": [
    "- **r100** : 100% of precincts reporting\n",
    "- **r5**: 5% of precincts reporting\n",
    "- **_3**: 3 strata\n",
    "- **_6**: 6 strata"
   ]
  },
  {
   "cell_type": "code",
   "execution_count": 4,
   "metadata": {},
   "outputs": [],
   "source": [
    "# 100 % reporting\n",
    "r100_3 = pd.read_csv(\"../full_data/final.csv\")\n",
    "r100_6 = pd.read_csv(\"../full_data/full_final.csv\")\n",
    "\n",
    "# 90 % reporting\n",
    "r90_3 = pd.read_csv(\"../partial_data/90/90_reporting.csv\")\n",
    "r90_6 = pd.read_csv(\"../partial_data/90/90_reporting_6.csv\")\n",
    "\n",
    "# 75 % reporting\n",
    "r75_3 = pd.read_csv(\"../partial_data/75/75_reporting.csv\")\n",
    "r75_6 = pd.read_csv(\"../partial_data/75/75_reporting_6.csv\")\n",
    "\n",
    "# 50 % reporting\n",
    "r50_3 = pd.read_csv(\"../partial_data/50/50_reporting.csv\")\n",
    "r50_6 = pd.read_csv(\"../partial_data/50/50_reporting_6.csv\")\n",
    "\n",
    "# 25 % reporting\n",
    "r25_3 = pd.read_csv(\"../partial_data/25/25_reporting.csv\")\n",
    "r25_6 = pd.read_csv(\"../partial_data/25/25_reporting_6.csv\")\n",
    "\n",
    "# 15 % reporting\n",
    "r15_3 = pd.read_csv(\"../partial_data/15/15_reporting.csv\")\n",
    "r15_6 = pd.read_csv(\"../partial_data/15/15_reporting_6.csv\")\n",
    "\n",
    "# 10 % reporting\n",
    "r10_3 = pd.read_csv(\"../partial_data/10/10_reporting.csv\")\n",
    "r10_6 = pd.read_csv(\"../partial_data/10/10_reporting_6.csv\")\n",
    "\n",
    "# 5 % reporting\n",
    "r5_3 = pd.read_csv(\"../partial_data/5/5_reporting.csv\")\n",
    "r5_6 = pd.read_csv(\"../partial_data/5/5_reporting_6.csv\")"
   ]
  },
  {
   "cell_type": "markdown",
   "metadata": {},
   "source": [
    "Encode all of the data frames"
   ]
  },
  {
   "cell_type": "code",
   "execution_count": 5,
   "metadata": {},
   "outputs": [],
   "source": [
    "data_frames = [r100_3, r100_6, r90_3, r90_6, r75_3, r75_6, r50_3, r50_6, \n",
    "               r25_3, r25_6, r15_3, r15_6, r10_3, r10_6, r5_3, r5_6]\n",
    "\n",
    "for d in data_frames:\n",
    "    d = encode(d)"
   ]
  },
  {
   "cell_type": "markdown",
   "metadata": {},
   "source": [
    "Initialize StratifiedKFold's to be set to 5 spilts"
   ]
  },
  {
   "cell_type": "code",
   "execution_count": 6,
   "metadata": {},
   "outputs": [],
   "source": [
    "from sklearn.model_selection import LeaveOneOut\n",
    "leave_one_out = LeaveOneOut()"
   ]
  },
  {
   "cell_type": "markdown",
   "metadata": {},
   "source": [
    "# Random Forest"
   ]
  },
  {
   "cell_type": "markdown",
   "metadata": {},
   "source": [
    "### Six Strata\n",
    "\n",
    "Compare a Decision Tree with Correlations and 6 Strata"
   ]
  },
  {
   "cell_type": "code",
   "execution_count": 8,
   "metadata": {},
   "outputs": [
    {
     "name": "stdout",
     "output_type": "stream",
     "text": [
      "0.7395833333333334\n"
     ]
    }
   ],
   "source": [
    "# for stratification - seperate the TIGHT_RACE\n",
    "X_over_s = r100_6.drop(columns=['TIGHT_RACE'])\n",
    "y_over_s = r100_6.TIGHT_RACE\n",
    "\n",
    "# for training - seperate the target (WINNER)\n",
    "X_ = r100_6.drop(columns=['WINNER'])\n",
    "y_ = r100_6.WINNER\n",
    "\n",
    "scores = []\n",
    "tight_from_test = []\n",
    "for train_index, test_index in leave_one_out.split(X_):\n",
    "    X_test = X_.iloc[test_index]\n",
    "    y_test = y_.iloc[test_index]\n",
    "    \n",
    "    oversampled_df = oversample(r100_6.iloc[train_index])\n",
    "    X_train = oversampled_df.drop(columns=['WINNER'])\n",
    "    y_train = oversampled_df.WINNER\n",
    "    \n",
    "    rf = RandomForestClassifier(max_depth=7, n_estimators=100)\n",
    "    rf.fit(X_train, y_train)\n",
    "    \n",
    "    scores.append(rf.score(X_test, y_test))\n",
    "    \n",
    "print(np.mean(scores))"
   ]
  },
  {
   "cell_type": "markdown",
   "metadata": {},
   "source": [
    "With 6 strata but no correlations"
   ]
  },
  {
   "cell_type": "code",
   "execution_count": 9,
   "metadata": {},
   "outputs": [],
   "source": [
    "r100_6_nc = r100_6[['S1_DEM_RATIO','S2_DEM_RATIO', 'S3_DEM_RATIO',\n",
    "                         'S4_DEM_RATIO','S5_DEM_RATIO', 'S6_DEM_RATIO',\n",
    "                         'S1_REP_RATIO', 'S2_REP_RATIO', 'S3_REP_RATIO',\n",
    "                         'S4_REP_RATIO', 'S5_REP_RATIO', 'S6_REP_RATIO',\n",
    "                         'TIGHT_RACE', 'WINNER']]"
   ]
  },
  {
   "cell_type": "code",
   "execution_count": 10,
   "metadata": {},
   "outputs": [
    {
     "name": "stdout",
     "output_type": "stream",
     "text": [
      "0.84375\n"
     ]
    }
   ],
   "source": [
    "# for stratification - seperate the TIGHT_RACE\n",
    "X_over_s = r100_6_nc.drop(columns=['TIGHT_RACE'])\n",
    "y_over_s = r100_6_nc.TIGHT_RACE\n",
    "\n",
    "# for training - seperate the target (WINNER)\n",
    "X_ = r100_6_nc.drop(columns=['WINNER'])\n",
    "y_ = r100_6_nc.WINNER\n",
    "\n",
    "scores = []\n",
    "tight_from_test = []\n",
    "for train_index, test_index in leave_one_out.split(X_):\n",
    "    X_test = X_.iloc[test_index]\n",
    "    y_test = y_.iloc[test_index]\n",
    "    \n",
    "    oversampled_df = oversample(r100_6_nc.iloc[train_index])\n",
    "    X_train = oversampled_df.drop(columns=['WINNER'])\n",
    "    y_train = oversampled_df.WINNER\n",
    "    \n",
    "    rf = RandomForestClassifier(max_depth=7, n_estimators=100)\n",
    "    rf.fit(X_train, y_train)\n",
    "    \n",
    "    scores.append(rf.score(X_test, y_test))\n",
    "    \n",
    "print(np.mean(scores))"
   ]
  },
  {
   "cell_type": "markdown",
   "metadata": {},
   "source": [
    "3 strata with correlations"
   ]
  },
  {
   "cell_type": "code",
   "execution_count": 11,
   "metadata": {},
   "outputs": [
    {
     "name": "stdout",
     "output_type": "stream",
     "text": [
      "0.71875\n"
     ]
    }
   ],
   "source": [
    "# for stratification - seperate the TIGHT_RACE\n",
    "X_over_s = r100_3.drop(columns=['TIGHT_RACE'])\n",
    "y_over_s = r100_3.TIGHT_RACE\n",
    "\n",
    "# for training - seperate the target (WINNER)\n",
    "X_ = r100_3.drop(columns=['WINNER'])\n",
    "y_ = r100_3.WINNER\n",
    "\n",
    "scores = []\n",
    "tight_from_test = []\n",
    "for train_index, test_index in leave_one_out.split(X_):\n",
    "    X_test = X_.iloc[test_index]\n",
    "    y_test = y_.iloc[test_index]\n",
    "    \n",
    "    oversampled_df = oversample(r100_3.iloc[train_index])\n",
    "    X_train = oversampled_df.drop(columns=['WINNER'])\n",
    "    y_train = oversampled_df.WINNER\n",
    "    \n",
    "    rf = RandomForestClassifier(max_depth=7, n_estimators=100)\n",
    "    rf.fit(X_train, y_train)\n",
    "    \n",
    "    scores.append(rf.score(X_test, y_test))\n",
    "    \n",
    "print(np.mean(scores))"
   ]
  },
  {
   "cell_type": "markdown",
   "metadata": {},
   "source": [
    "3 strata no correlations"
   ]
  },
  {
   "cell_type": "code",
   "execution_count": 12,
   "metadata": {},
   "outputs": [],
   "source": [
    "r100_3_nc = r100_3[['S1_DEM_RATIO','S2_DEM_RATIO', 'S3_DEM_RATIO',\n",
    "                    'S1_REP_RATIO', 'S2_REP_RATIO', 'S3_REP_RATIO',\n",
    "                    'TIGHT_RACE', 'WINNER']]"
   ]
  },
  {
   "cell_type": "code",
   "execution_count": 13,
   "metadata": {},
   "outputs": [
    {
     "name": "stdout",
     "output_type": "stream",
     "text": [
      "0.8333333333333334\n"
     ]
    }
   ],
   "source": [
    "# for stratification - seperate the TIGHT_RACE\n",
    "X_over_s = r100_3_nc.drop(columns=['TIGHT_RACE'])\n",
    "y_over_s = r100_3_nc.TIGHT_RACE\n",
    "\n",
    "# for training - seperate the target (WINNER)\n",
    "X_ = r100_3_nc.drop(columns=['WINNER'])\n",
    "y_ = r100_3_nc.WINNER\n",
    "\n",
    "scores = []\n",
    "tight_from_test = []\n",
    "for train_index, test_index in leave_one_out.split(X_):\n",
    "    X_test = X_.iloc[test_index]\n",
    "    y_test = y_.iloc[test_index]\n",
    "    \n",
    "    oversampled_df = oversample(r100_3_nc.iloc[train_index])\n",
    "    X_train = oversampled_df.drop(columns=['WINNER'])\n",
    "    y_train = oversampled_df.WINNER\n",
    "    \n",
    "    rf = RandomForestClassifier(max_depth=7, n_estimators=100)\n",
    "    rf.fit(X_train, y_train)\n",
    "    \n",
    "    scores.append(rf.score(X_test, y_test))\n",
    "    \n",
    "print(np.mean(scores))"
   ]
  },
  {
   "cell_type": "markdown",
   "metadata": {},
   "source": [
    "# Decision Tree"
   ]
  },
  {
   "cell_type": "code",
   "execution_count": 14,
   "metadata": {},
   "outputs": [
    {
     "name": "stdout",
     "output_type": "stream",
     "text": [
      "0.78125\n"
     ]
    }
   ],
   "source": [
    "# for stratification - seperate the TIGHT_RACE\n",
    "X_over_s = r100_6_nc.drop(columns=['TIGHT_RACE'])\n",
    "y_over_s = r100_6_nc.TIGHT_RACE\n",
    "\n",
    "# for training - seperate the target (WINNER)\n",
    "X_ = r100_6_nc.drop(columns=['WINNER'])\n",
    "y_ = r100_6_nc.WINNER\n",
    "\n",
    "scores = []\n",
    "tight_from_test = []\n",
    "for train_index, test_index in leave_one_out.split(X_):\n",
    "    X_test = X_.iloc[test_index]\n",
    "    y_test = y_.iloc[test_index]\n",
    "    \n",
    "    oversampled_df = oversample(r100_6_nc.iloc[train_index])\n",
    "    X_train = oversampled_df.drop(columns=['WINNER'])\n",
    "    y_train = oversampled_df.WINNER\n",
    "    \n",
    "    dt = DecisionTreeClassifier(max_depth=7)\n",
    "    dt.fit(X_train, y_train)\n",
    "    \n",
    "    scores.append(dt.score(X_test, y_test))\n",
    "    \n",
    "print(np.mean(scores))"
   ]
  },
  {
   "cell_type": "code",
   "execution_count": 17,
   "metadata": {},
   "outputs": [
    {
     "name": "stdout",
     "output_type": "stream",
     "text": [
      "0.8541666666666666\n"
     ]
    }
   ],
   "source": [
    "# for stratification - seperate the TIGHT_RACE\n",
    "X_over_s = r100_3_nc.drop(columns=['TIGHT_RACE'])\n",
    "y_over_s = r100_3_nc.TIGHT_RACE\n",
    "\n",
    "# for training - seperate the target (WINNER)\n",
    "X_ = r100_3_nc.drop(columns=['WINNER'])\n",
    "y_ = r100_3_nc.WINNER\n",
    "\n",
    "scores = []\n",
    "tight_from_test = []\n",
    "for train_index, test_index in leave_one_out.split(X_):\n",
    "    X_test = X_.iloc[test_index]\n",
    "    y_test = y_.iloc[test_index]\n",
    "    \n",
    "    oversampled_df = oversample(r100_3_nc.iloc[train_index])\n",
    "    X_train = oversampled_df.drop(columns=['WINNER'])\n",
    "    y_train = oversampled_df.WINNER\n",
    "    \n",
    "    dt = DecisionTreeClassifier(max_depth=7)\n",
    "    dt.fit(X_train, y_train)\n",
    "    \n",
    "    scores.append(dt.score(X_test, y_test))\n",
    "    \n",
    "print(np.mean(scores))"
   ]
  },
  {
   "cell_type": "markdown",
   "metadata": {},
   "source": [
    "# Boosted Trees"
   ]
  },
  {
   "cell_type": "code",
   "execution_count": 18,
   "metadata": {},
   "outputs": [
    {
     "name": "stdout",
     "output_type": "stream",
     "text": [
      "0.875\n"
     ]
    }
   ],
   "source": [
    "# for stratification - seperate the TIGHT_RACE\n",
    "X_over_s = r100_6_nc.drop(columns=['TIGHT_RACE'])\n",
    "y_over_s = r100_6_nc.TIGHT_RACE\n",
    "\n",
    "# for training - seperate the target (WINNER)\n",
    "X_ = r100_6_nc.drop(columns=['WINNER'])\n",
    "y_ = r100_6_nc.WINNER\n",
    "\n",
    "scores = []\n",
    "tight_from_test = []\n",
    "for train_index, test_index in leave_one_out.split(X_):\n",
    "    X_test = X_.iloc[test_index]\n",
    "    y_test = y_.iloc[test_index]\n",
    "    \n",
    "    oversampled_df = oversample(r100_6_nc.iloc[train_index])\n",
    "    X_train = oversampled_df.drop(columns=['WINNER'])\n",
    "    y_train = oversampled_df.WINNER\n",
    "    \n",
    "    gbc = GradientBoostingClassifier(n_estimators=100, max_depth=3)\n",
    "    gbc.fit(X_train, y_train)\n",
    "    \n",
    "    scores.append(gbc.score(X_test, y_test))\n",
    "    \n",
    "print(np.mean(scores))"
   ]
  },
  {
   "cell_type": "code",
   "execution_count": 19,
   "metadata": {},
   "outputs": [
    {
     "name": "stdout",
     "output_type": "stream",
     "text": [
      "0.8229166666666666\n"
     ]
    }
   ],
   "source": [
    "# for stratification - seperate the TIGHT_RACE\n",
    "X_over_s = r100_3_nc.drop(columns=['TIGHT_RACE'])\n",
    "y_over_s = r100_3_nc.TIGHT_RACE\n",
    "\n",
    "# for training - seperate the target (WINNER)\n",
    "X_ = r100_3_nc.drop(columns=['WINNER'])\n",
    "y_ = r100_3_nc.WINNER\n",
    "\n",
    "scores = []\n",
    "tight_from_test = []\n",
    "for train_index, test_index in leave_one_out.split(X_):\n",
    "    X_test = X_.iloc[test_index]\n",
    "    y_test = y_.iloc[test_index]\n",
    "    \n",
    "    oversampled_df = oversample(r100_3_nc.iloc[train_index])\n",
    "    X_train = oversampled_df.drop(columns=['WINNER'])\n",
    "    y_train = oversampled_df.WINNER\n",
    "    \n",
    "    gbc = GradientBoostingClassifier(n_estimators=100, max_depth=6)\n",
    "    gbc.fit(X_train, y_train)\n",
    "    \n",
    "    scores.append(gbc.score(X_test, y_test))\n",
    "    \n",
    "print(np.mean(scores))"
   ]
  },
  {
   "cell_type": "markdown",
   "metadata": {},
   "source": [
    "# Test With Fewer Precincts Reporting"
   ]
  },
  {
   "cell_type": "markdown",
   "metadata": {},
   "source": [
    "Copying the winning model from above"
   ]
  },
  {
   "cell_type": "code",
   "execution_count": 20,
   "metadata": {},
   "outputs": [],
   "source": [
    "testing_dfs = [r90_6, r75_6, r50_6, r25_6, r15_6, r10_6, r5_6]\n",
    "testing_nc_dfs = [df[['S1_DEM_RATIO','S2_DEM_RATIO', 'S3_DEM_RATIO',\n",
    "                         'S4_DEM_RATIO','S5_DEM_RATIO', 'S6_DEM_RATIO',\n",
    "                         'S1_REP_RATIO', 'S2_REP_RATIO', 'S3_REP_RATIO',\n",
    "                         'S4_REP_RATIO', 'S5_REP_RATIO', 'S6_REP_RATIO',\n",
    "                         'TIGHT_RACE', 'WINNER']] for df in testing_dfs]"
   ]
  },
  {
   "cell_type": "code",
   "execution_count": 21,
   "metadata": {},
   "outputs": [],
   "source": [
    "percents = [90, 75, 50, 25, 15, 10, 5]"
   ]
  },
  {
   "cell_type": "code",
   "execution_count": 22,
   "metadata": {},
   "outputs": [],
   "source": [
    "# for stratification - seperate the TIGHT_RACE\n",
    "X_over_s = r100_6_nc.drop(columns=['TIGHT_RACE'])\n",
    "y_over_s = r100_6_nc.TIGHT_RACE\n",
    "\n",
    "# for training - seperate the target (WINNER)\n",
    "X_ = r100_6_nc.drop(columns=['WINNER'])\n",
    "y_ = r100_6_nc.WINNER"
   ]
  },
  {
   "cell_type": "markdown",
   "metadata": {},
   "source": [
    "### Random Forest"
   ]
  },
  {
   "cell_type": "code",
   "execution_count": 25,
   "metadata": {},
   "outputs": [],
   "source": [
    "def random_forest(partial_reporting_df, perc):\n",
    "    scores = []\n",
    "    tight_from_test = []\n",
    "    p_scores = []\n",
    "    p_tight = []\n",
    "    \n",
    "    p_X = partial_reporting_df.drop(columns=['WINNER'])\n",
    "    p_y = partial_reporting_df.WINNER\n",
    "    p_tight_only = partial_reporting_df[partial_reporting_df.TIGHT_RACE]\n",
    "    p_tight_X = p_tight_only.drop(columns=['WINNER'])\n",
    "    p_tight_y = p_tight_only.WINNER\n",
    "    \n",
    "    for train_index, test_index in leave_one_out.split(X_):\n",
    "        X_test = X_.iloc[test_index]\n",
    "        y_test = y_.iloc[test_index]\n",
    "\n",
    "        oversampled_df = oversample(r100_6_nc.iloc[train_index])\n",
    "        X_train = oversampled_df.drop(columns=['WINNER'])\n",
    "        y_train = oversampled_df.WINNER\n",
    "\n",
    "        rf = RandomForestClassifier(max_depth=5, n_estimators=100)\n",
    "        rf.fit(X_train, y_train)\n",
    "\n",
    "        scores.append(rf.score(X_test, y_test))\n",
    "        p_scores.append(rf.score(p_X, p_y))\n",
    "        p_tight.append(rf.score(p_tight_X, p_tight_y))\n",
    "\n",
    "    print(np.mean(scores), perc, np.mean(p_scores), np.mean(p_tight))"
   ]
  },
  {
   "cell_type": "code",
   "execution_count": 26,
   "metadata": {
    "scrolled": true
   },
   "outputs": [
    {
     "name": "stdout",
     "output_type": "stream",
     "text": [
      "0.8125 90 0.9121432648401827 0.8471483451536644\n",
      "0.8020833333333334 75 0.9049657534246576 0.8292624521072797\n",
      "0.84375 50 0.9340753424657534 0.8786764705882355\n",
      "0.8229166666666666 25 0.9028206870983689 0.8402235243055555\n",
      "0.8125 15 0.9103538238878732 0.8562599681020734\n",
      "0.8645833333333334 10 0.904632800608828 0.8272192028985507\n",
      "0.8645833333333334 5 0.9049564717477003 0.843357591324201\n"
     ]
    }
   ],
   "source": [
    "for i in range(len(percents)):\n",
    "    random_forest(testing_nc_dfs[i], percents[i])"
   ]
  },
  {
   "cell_type": "markdown",
   "metadata": {},
   "source": [
    "### GBT"
   ]
  },
  {
   "cell_type": "code",
   "execution_count": 27,
   "metadata": {},
   "outputs": [],
   "source": [
    "def boosting_tree(partial_reporting_df, perc):\n",
    "    scores = []\n",
    "    tight_from_test = []\n",
    "    p_scores = []\n",
    "    p_tight = []\n",
    "    \n",
    "    p_X = partial_reporting_df.drop(columns=['WINNER'])\n",
    "    p_y = partial_reporting_df.WINNER\n",
    "    p_tight_only = partial_reporting_df[partial_reporting_df.TIGHT_RACE]\n",
    "    p_tight_X = p_tight_only.drop(columns=['WINNER'])\n",
    "    p_tight_y = p_tight_only.WINNER\n",
    "    \n",
    "    for train_index, test_index in leave_one_out.split(X_):\n",
    "        X_test = X_.iloc[test_index]\n",
    "        y_test = y_.iloc[test_index]\n",
    "\n",
    "        oversampled_df = oversample(r100_6_nc.iloc[train_index])\n",
    "        X_train = oversampled_df.drop(columns=['WINNER'])\n",
    "        y_train = oversampled_df.WINNER\n",
    "\n",
    "        gbt = GradientBoostingClassifier(n_estimators=100, max_depth=3)\n",
    "        gbt.fit(X_train, y_train)\n",
    "\n",
    "        scores.append(gbt.score(X_test, y_test))\n",
    "        p_scores.append(gbt.score(p_X, p_y))\n",
    "        p_tight.append(gbt.score(p_tight_X, p_tight_y))\n",
    "\n",
    "    print(np.mean(scores), perc, np.mean(p_scores), np.mean(p_tight))"
   ]
  },
  {
   "cell_type": "code",
   "execution_count": 28,
   "metadata": {
    "scrolled": false
   },
   "outputs": [
    {
     "name": "stdout",
     "output_type": "stream",
     "text": [
      "0.875 90 0.9134988584474885 0.8569001182033098\n",
      "0.8541666666666666 75 0.9049419710806696 0.8465038314176244\n",
      "0.8645833333333334 50 0.9433504566210044 0.9368872549019609\n",
      "0.8958333333333334 25 0.9022542840665677 0.844482421875\n",
      "0.875 15 0.9141339122486288 0.8622408293460925\n",
      "0.8854166666666666 10 0.9068683409436833 0.8528079710144927\n",
      "0.8645833333333334 5 0.9067496167323696 0.850492294520548\n"
     ]
    }
   ],
   "source": [
    "for i in range(len(percents)):\n",
    "    boosting_tree(testing_nc_dfs[i], percents[i])"
   ]
  },
  {
   "cell_type": "markdown",
   "metadata": {},
   "source": [
    "## DecisionTree"
   ]
  },
  {
   "cell_type": "code",
   "execution_count": 29,
   "metadata": {},
   "outputs": [],
   "source": [
    "# for training - seperate the target (WINNER)\n",
    "X_ = r100_3_nc.drop(columns=['WINNER'])\n",
    "y_ = r100_3_nc.WINNER"
   ]
  },
  {
   "cell_type": "code",
   "execution_count": 30,
   "metadata": {},
   "outputs": [],
   "source": [
    "def decision_tree(partial_reporting_df, perc):\n",
    "    scores = []\n",
    "    tight_from_test = []\n",
    "    p_scores = []\n",
    "    p_tight = []\n",
    "    \n",
    "    p_X = partial_reporting_df.drop(columns=['WINNER'])\n",
    "    p_y = partial_reporting_df.WINNER\n",
    "    p_tight_only = partial_reporting_df[partial_reporting_df.TIGHT_RACE]\n",
    "    p_tight_X = p_tight_only.drop(columns=['WINNER'])\n",
    "    p_tight_y = p_tight_only.WINNER\n",
    "    \n",
    "    for train_index, test_index in leave_one_out.split(X_):\n",
    "        X_test = X_.iloc[test_index]\n",
    "        y_test = y_.iloc[test_index]\n",
    "\n",
    "        oversampled_df = oversample(r100_3_nc.iloc[train_index])\n",
    "        X_train = oversampled_df.drop(columns=['WINNER'])\n",
    "        y_train = oversampled_df.WINNER\n",
    "\n",
    "        dt = DecisionTreeClassifier(max_depth=7)\n",
    "        dt.fit(X_train, y_train)\n",
    "\n",
    "        scores.append(dt.score(X_test, y_test))\n",
    "        p_scores.append(dt.score(p_X, p_y))\n",
    "        p_tight.append(dt.score(p_tight_X, p_tight_y))\n",
    "\n",
    "    print(np.mean(scores), perc, np.mean(p_scores), np.mean(p_tight))"
   ]
  },
  {
   "cell_type": "code",
   "execution_count": 34,
   "metadata": {},
   "outputs": [],
   "source": [
    "testing_dfs = [r90_3, r75_3, r50_3, r25_3, r15_3, r10_3, r5_3]\n",
    "testing_nc_dfs = [df[['S1_DEM_RATIO','S2_DEM_RATIO', 'S3_DEM_RATIO',\n",
    "                         'S1_REP_RATIO', 'S2_REP_RATIO', 'S3_REP_RATIO',\n",
    "                         'TIGHT_RACE', 'WINNER']] for df in testing_dfs]"
   ]
  },
  {
   "cell_type": "code",
   "execution_count": 36,
   "metadata": {
    "scrolled": false
   },
   "outputs": [
    {
     "name": "stdout",
     "output_type": "stream",
     "text": [
      "0.8333333333333334 90 0.8573059360730593 0.7934397163120567\n",
      "0.8020833333333334 75 0.8493864155251142 0.7672413793103449\n",
      "0.8229166666666666 50 0.8550228310502282 0.7867647058823529\n",
      "0.7604166666666666 25 0.8543262893392652 0.7885199652777778\n",
      "0.84375 15 0.8596035191956125 0.8032795055821372\n",
      "0.8645833333333334 10 0.8369006849315069 0.7391304347826088\n",
      "0.78125 5 0.8541735107314937 0.7908818493150686\n"
     ]
    }
   ],
   "source": [
    "for i in range(len(percents)):\n",
    "    decision_tree(testing_nc_dfs[i], percents[i])"
   ]
  },
  {
   "cell_type": "code",
   "execution_count": null,
   "metadata": {},
   "outputs": [],
   "source": []
  }
 ],
 "metadata": {
  "kernelspec": {
   "display_name": "Python 3",
   "language": "python",
   "name": "python3"
  },
  "language_info": {
   "codemirror_mode": {
    "name": "ipython",
    "version": 3
   },
   "file_extension": ".py",
   "mimetype": "text/x-python",
   "name": "python",
   "nbconvert_exporter": "python",
   "pygments_lexer": "ipython3",
   "version": "3.6.6"
  }
 },
 "nbformat": 4,
 "nbformat_minor": 2
}
