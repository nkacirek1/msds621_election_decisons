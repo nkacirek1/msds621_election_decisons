{
 "cells": [
  {
   "cell_type": "code",
   "execution_count": 16,
   "metadata": {},
   "outputs": [],
   "source": [
    "import os\n",
    "import pandas as pd"
   ]
  },
  {
   "cell_type": "code",
   "execution_count": 17,
   "metadata": {},
   "outputs": [],
   "source": [
    "districts = ['D' + str(i+1) for i in range(27)]"
   ]
  },
  {
   "cell_type": "code",
   "execution_count": 18,
   "metadata": {},
   "outputs": [],
   "source": [
    "county_dict = {}\n",
    "for district in districts:\n",
    "    counties = []\n",
    "    for name in os.walk('/Users/sarahmelancon/fall2/msds621/msds621_election_decisons/data/FL/FL_counties/'):\n",
    "        for f in name[2]:\n",
    "            if f.endswith(district + '.csv'):\n",
    "                counties.append(f.split('_')[0])\n",
    "    county_dict[district] = counties"
   ]
  },
  {
   "cell_type": "code",
   "execution_count": 19,
   "metadata": {},
   "outputs": [
    {
     "name": "stdout",
     "output_type": "stream",
     "text": [
      "No counties in D12\n",
      "No counties in D14\n",
      "No counties in D25\n",
      "No counties in D27\n"
     ]
    }
   ],
   "source": [
    "for district in districts:\n",
    "    frames = []\n",
    "    frames_2012 = []\n",
    "    for county in county_dict[district]:\n",
    "        df_2012 = pd.read_csv('/Users/sarahmelancon/fall2/msds621/msds621_election_decisons/data/FL/FL_counties/' + county + '_2012.csv')\n",
    "        df = pd.read_csv('/Users/sarahmelancon/fall2/msds621/msds621_election_decisons/data/FL/FL_counties/' + county + '_2014_' + district + '.csv')\n",
    "        frames.append(df)\n",
    "        frames_2012.append(df_2012)\n",
    "    \n",
    "    try:\n",
    "        district_df = pd.concat(frames)\n",
    "        district_df.to_csv('/Users/sarahmelancon/fall2/msds621/msds621_election_decisons/data/FL/Presidential/' + district + '_2014.csv', index=False)\n",
    "\n",
    "        district_df_2012 = pd.concat(frames_2012)\n",
    "        district_df_2012.to_csv('/Users/sarahmelancon/fall2/msds621/msds621_election_decisons/data/FL/Midterm/' + district + '_2012.csv', index=False)\n",
    "    except:\n",
    "        print('No counties in ' + district)"
   ]
  },
  {
   "cell_type": "code",
   "execution_count": null,
   "metadata": {},
   "outputs": [],
   "source": []
  }
 ],
 "metadata": {
  "kernelspec": {
   "display_name": "Python 3",
   "language": "python",
   "name": "python3"
  },
  "language_info": {
   "codemirror_mode": {
    "name": "ipython",
    "version": 3
   },
   "file_extension": ".py",
   "mimetype": "text/x-python",
   "name": "python",
   "nbconvert_exporter": "python",
   "pygments_lexer": "ipython3",
   "version": "3.6.4"
  }
 },
 "nbformat": 4,
 "nbformat_minor": 2
}
