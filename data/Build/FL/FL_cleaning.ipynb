{
 "cells": [
  {
   "cell_type": "code",
   "execution_count": 1,
   "metadata": {},
   "outputs": [],
   "source": [
    "import os\n",
    "import pandas as pd"
   ]
  },
  {
   "cell_type": "code",
   "execution_count": 2,
   "metadata": {},
   "outputs": [],
   "source": [
    "districts = ['D' + str(i+1) for i in range(27)]"
   ]
  },
  {
   "cell_type": "code",
   "execution_count": 3,
   "metadata": {},
   "outputs": [],
   "source": [
    "county_dict = {}\n",
    "for district in districts:\n",
    "    counties = []\n",
    "    for name in os.walk('/Users/sarahmelancon/fall2/msds621/msds621_election_decisons/data/Build/FL/FL_counties/'):\n",
    "        for f in name[2]:\n",
    "            if f.endswith(district + '.csv'):\n",
    "                counties.append(f.split('_')[0])\n",
    "    county_dict[district] = counties"
   ]
  },
  {
   "cell_type": "code",
   "execution_count": 4,
   "metadata": {},
   "outputs": [
    {
     "data": {
      "text/plain": [
       "{'D1': ['WAL', 'ESC', 'OKA', 'SAN', 'HOL'],\n",
       " 'D10': ['ORA', 'LAK'],\n",
       " 'D11': ['CIT', 'SUM', 'HER', 'MRN', 'LAK'],\n",
       " 'D12': [],\n",
       " 'D13': ['PIN'],\n",
       " 'D14': [],\n",
       " 'D15': ['HIL'],\n",
       " 'D16': ['MAN', 'SAR'],\n",
       " 'D17': ['MAN', 'HIL', 'OKE', 'LEE', 'HIG', 'GLA', 'HAR', 'DES', 'CHA'],\n",
       " 'D18': ['STL', 'MRT'],\n",
       " 'D19': ['CLL', 'LEE'],\n",
       " 'D2': ['MAD',\n",
       "  'JEF',\n",
       "  'LIB',\n",
       "  'WAS',\n",
       "  'BAY',\n",
       "  'GAD',\n",
       "  'TAY',\n",
       "  'GUL',\n",
       "  'WAK',\n",
       "  'CAL',\n",
       "  'JAC',\n",
       "  'LEO',\n",
       "  'HOL',\n",
       "  'FRA'],\n",
       " 'D20': ['BRO', 'HEN'],\n",
       " 'D21': ['BRO'],\n",
       " 'D22': ['BRO'],\n",
       " 'D23': ['BRO', 'DAD'],\n",
       " 'D24': ['BRO', 'DAD'],\n",
       " 'D25': [],\n",
       " 'D26': ['MON', 'DAD'],\n",
       " 'D27': [],\n",
       " 'D3': ['CLM',\n",
       "  'MAD',\n",
       "  'CLA',\n",
       "  'LAF',\n",
       "  'MRN',\n",
       "  'UNI',\n",
       "  'GIL',\n",
       "  'LEV',\n",
       "  'DIX',\n",
       "  'HAM',\n",
       "  'BRA',\n",
       "  'ALA',\n",
       "  'SUW'],\n",
       " 'D4': ['NAS', 'DUV', 'BAK'],\n",
       " 'D5': ['CLA', 'MRN', 'LAK', 'PUT', 'ORA', 'DUV', 'ALA'],\n",
       " 'D6': ['STJ', 'VOL', 'PUT', 'FLA'],\n",
       " 'D7': ['VOL', 'ORA'],\n",
       " 'D8': ['IND', 'ORA', 'BRE'],\n",
       " 'D9': ['ORA', 'OSC']}"
      ]
     },
     "execution_count": 4,
     "metadata": {},
     "output_type": "execute_result"
    }
   ],
   "source": [
    "county_dict"
   ]
  },
  {
   "cell_type": "code",
   "execution_count": 16,
   "metadata": {},
   "outputs": [],
   "source": [
    "districts = ['D4']"
   ]
  },
  {
   "cell_type": "code",
   "execution_count": 17,
   "metadata": {},
   "outputs": [
    {
     "name": "stdout",
     "output_type": "stream",
     "text": [
      "Empty DataFrame\n",
      "Columns: [STATE, COUNTY, PRECINCT, DEM, REP]\n",
      "Index: []\n",
      "Empty DataFrame\n",
      "Columns: [STATE, COUNTY, PRECINCT, DEM, REP]\n",
      "Index: []\n",
      "Empty DataFrame\n",
      "Columns: [STATE, COUNTY, PRECINCT, DEM, REP]\n",
      "Index: []\n"
     ]
    }
   ],
   "source": [
    "for district in districts:\n",
    "    frames = []\n",
    "    frames_2012 = []\n",
    "    for county in county_dict[district]:\n",
    "        df_2012 = pd.read_csv('/Users/sarahmelancon/fall2/msds621/msds621_election_decisons/data/Build/FL/FL_counties/' + county + '_2012.csv')\n",
    "        df = pd.read_csv('/Users/sarahmelancon/fall2/msds621/msds621_election_decisons/data/Build/FL/FL_counties/' + county + '_2014_' + district + '.csv')\n",
    "        print(df.head())\n",
    "        frames.append(df)\n",
    "        frames_2012.append(df_2012)\n",
    "    \n",
    "    try:\n",
    "        district_df = pd.concat(frames)\n",
    "        # district_df.to_csv('/Users/sarahmelancon/fall2/msds621/msds621_election_decisons/data/FL/Presidential/' + district + '_2014.csv', index=False)\n",
    "\n",
    "        district_df_2012 = pd.concat(frames_2012)\n",
    "        # district_df_2012.to_csv('/Users/sarahmelancon/fall2/msds621/msds621_election_decisons/data/FL/Midterm/' + district + '_2012.csv', index=False)\n",
    "    except:\n",
    "        print('No counties in ' + district)"
   ]
  },
  {
   "cell_type": "code",
   "execution_count": null,
   "metadata": {},
   "outputs": [],
   "source": []
  }
 ],
 "metadata": {
  "kernelspec": {
   "display_name": "Python 3",
   "language": "python",
   "name": "python3"
  },
  "language_info": {
   "codemirror_mode": {
    "name": "ipython",
    "version": 3
   },
   "file_extension": ".py",
   "mimetype": "text/x-python",
   "name": "python",
   "nbconvert_exporter": "python",
   "pygments_lexer": "ipython3",
   "version": "3.6.4"
  }
 },
 "nbformat": 4,
 "nbformat_minor": 2
}
