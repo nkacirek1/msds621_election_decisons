{
 "cells": [
  {
   "cell_type": "code",
   "execution_count": 124,
   "metadata": {},
   "outputs": [],
   "source": [
    "import pandas as pd\n",
    "import random\n",
    "import os"
   ]
  },
  {
   "cell_type": "code",
   "execution_count": 137,
   "metadata": {},
   "outputs": [],
   "source": [
    "def make_partial_reporting(file_full, file_partial, percent_reporting):\n",
    "    \"\"\"\n",
    "    From the file at path file_full with all precincts reporting, creates a simulated file \n",
    "    with percent_reporting of precincts reporting. Writes the file to the path file_partial\n",
    "    \"\"\"\n",
    "    df = pd.read_csv(file_full)\n",
    "    reporting = random.sample(list(range(df.shape[0])), int(percent_reporting*df.shape[0]))\n",
    "    \n",
    "    dem_totals = df['DEM']\n",
    "    rep_totals = df['REP']\n",
    "    new_dem_totals = [0] * df.shape[0]\n",
    "    new_rep_totals = [0] * df.shape[0]\n",
    "\n",
    "    for i in range(df.shape[0]):\n",
    "        if i in reporting:\n",
    "            new_dem_totals[i] = dem_totals[i]\n",
    "            new_rep_totals[i] = rep_totals[i]\n",
    "\n",
    "    df['DEM'] = new_dem_totals\n",
    "    df['REP'] = new_rep_totals\n",
    "    \n",
    "    df.to_csv(file_partial)"
   ]
  },
  {
   "cell_type": "markdown",
   "metadata": {
    "heading_collapsed": true
   },
   "source": [
    "## Make file lists ##"
   ]
  },
  {
   "cell_type": "code",
   "execution_count": 171,
   "metadata": {
    "hidden": true
   },
   "outputs": [],
   "source": [
    "file_list_GA = []\n",
    "\n",
    "for name in os.listdir('/Users/sarahmelancon/fall2/msds621/msds621_election_decisons/data/efs/scrape_2018/GA_SOS/'):\n",
    "    for file in os.listdir('/Users/sarahmelancon/fall2/msds621/msds621_election_decisons/data/efs/scrape_2018/GA_SOS/' + name):\n",
    "        file_list_GA.append(name + '/' + file)"
   ]
  },
  {
   "cell_type": "code",
   "execution_count": 173,
   "metadata": {
    "hidden": true
   },
   "outputs": [],
   "source": [
    "file_list_AR = []\n",
    "\n",
    "for name in os.listdir('/Users/sarahmelancon/fall2/msds621/msds621_election_decisons/data/efs/scrape_2018/AR_SOS/'):\n",
    "    for file in os.listdir('/Users/sarahmelancon/fall2/msds621/msds621_election_decisons/data/efs/scrape_2018/AR_SOS/' + name):\n",
    "        file_list_AR.append(name + '/' + file)"
   ]
  },
  {
   "cell_type": "code",
   "execution_count": 185,
   "metadata": {
    "hidden": true
   },
   "outputs": [],
   "source": [
    "file_list_NC = []\n",
    "\n",
    "for name in os.listdir('/Users/sarahmelancon/fall2/msds621/msds621_election_decisons/data/efs/scrape_2018/NC_SOS/'):\n",
    "    file = os.listdir('/Users/sarahmelancon/fall2/msds621/msds621_election_decisons/data/efs/scrape_2018/NC_SOS/' + name)[0]\n",
    "    file_list_NC.append(name + '/' + file)"
   ]
  },
  {
   "cell_type": "code",
   "execution_count": 141,
   "metadata": {
    "hidden": true
   },
   "outputs": [],
   "source": [
    "file_list_FL = []\n",
    "\n",
    "for name in os.listdir('/Users/sarahmelancon/fall2/msds621/msds621_election_decisons/data/FL/Midterm'):\n",
    "    if name.endswith('.csv'):\n",
    "        file_list_FL.append(name)"
   ]
  },
  {
   "cell_type": "code",
   "execution_count": 142,
   "metadata": {
    "hidden": true
   },
   "outputs": [],
   "source": [
    "file_list_CO = []\n",
    "\n",
    "for name in os.listdir('/Users/sarahmelancon/fall2/msds621/msds621_election_decisons/data/CO/Midterm'):\n",
    "    if name.endswith('.csv'):\n",
    "        file_list_CO.append(name)"
   ]
  },
  {
   "cell_type": "code",
   "execution_count": 143,
   "metadata": {
    "hidden": true
   },
   "outputs": [],
   "source": [
    "file_list_MN = []\n",
    "\n",
    "for name in os.listdir('/Users/sarahmelancon/fall2/msds621/msds621_election_decisons/data/MN/Midterm'):\n",
    "    if name.endswith('.csv'):\n",
    "        file_list_MN.append(name)"
   ]
  },
  {
   "cell_type": "code",
   "execution_count": 144,
   "metadata": {
    "hidden": true
   },
   "outputs": [],
   "source": [
    "file_list_VA = []\n",
    "\n",
    "for name in os.listdir('/Users/sarahmelancon/fall2/msds621/msds621_election_decisons/data/VA/Midterm'):\n",
    "    if name.endswith('.csv'):\n",
    "        file_list_VA.append(name)"
   ]
  },
  {
   "cell_type": "markdown",
   "metadata": {
    "heading_collapsed": true
   },
   "source": [
    "## 75 percent reporting ##"
   ]
  },
  {
   "cell_type": "code",
   "execution_count": 200,
   "metadata": {
    "hidden": true
   },
   "outputs": [],
   "source": [
    "for file in file_list_GA:\n",
    "    make_partial_reporting(file_full='/Users/sarahmelancon/fall2/msds621/msds621_election_decisons/data/efs/scrape_2018/GA_SOS/' + file,\n",
    "                           file_partial='/Users/sarahmelancon/fall2/msds621/msds621_election_decisons/data_75_percent/GA/Midterm/' + file.split('/')[0] + '_2018.csv',\n",
    "                           percent_reporting=0.75)"
   ]
  },
  {
   "cell_type": "code",
   "execution_count": 201,
   "metadata": {
    "hidden": true
   },
   "outputs": [],
   "source": [
    "for file in file_list_AR:\n",
    "    make_partial_reporting(file_full='/Users/sarahmelancon/fall2/msds621/msds621_election_decisons/data/efs/scrape_2018/AR_SOS/' + file,\n",
    "                           file_partial='/Users/sarahmelancon/fall2/msds621/msds621_election_decisons/data_75_percent/AR/Midterm/' + file.split('/')[0] + '_2018.csv',\n",
    "                           percent_reporting=0.75)"
   ]
  },
  {
   "cell_type": "code",
   "execution_count": 203,
   "metadata": {
    "hidden": true
   },
   "outputs": [],
   "source": [
    "for file in file_list_NC:\n",
    "    make_partial_reporting(file_full='/Users/sarahmelancon/fall2/msds621/msds621_election_decisons/data/efs/scrape_2018/NC_SOS/' + file,\n",
    "                           file_partial='/Users/sarahmelancon/fall2/msds621/msds621_election_decisons/data_75_percent/NC/Midterm/' + file.split('/')[0] + '_2018.csv',\n",
    "                           percent_reporting=0.75)"
   ]
  },
  {
   "cell_type": "code",
   "execution_count": 193,
   "metadata": {
    "hidden": true
   },
   "outputs": [],
   "source": [
    "for file in file_list_FL:\n",
    "    make_partial_reporting(file_full='/Users/sarahmelancon/fall2/msds621/msds621_election_decisons/data/FL/Midterm/' + file,\n",
    "                           file_partial='/Users/sarahmelancon/fall2/msds621/msds621_election_decisons/data_75_percent/FL/Midterm/' + file,\n",
    "                           percent_reporting=0.75)"
   ]
  },
  {
   "cell_type": "code",
   "execution_count": 146,
   "metadata": {
    "hidden": true
   },
   "outputs": [],
   "source": [
    "for file in file_list_CO:\n",
    "    make_partial_reporting(file_full='/Users/sarahmelancon/fall2/msds621/msds621_election_decisons/data/CO/Midterm/' + file,\n",
    "                           file_partial='/Users/sarahmelancon/fall2/msds621/msds621_election_decisons/data_75_percent/CO/Midterm/' + file,\n",
    "                           percent_reporting=0.75)"
   ]
  },
  {
   "cell_type": "code",
   "execution_count": 147,
   "metadata": {
    "hidden": true
   },
   "outputs": [],
   "source": [
    "for file in file_list_MN:\n",
    "    make_partial_reporting(file_full='/Users/sarahmelancon/fall2/msds621/msds621_election_decisons/data/MN/Midterm/' + file,\n",
    "                           file_partial='/Users/sarahmelancon/fall2/msds621/msds621_election_decisons/data_75_percent/MN/Midterm/' + file,\n",
    "                           percent_reporting=0.75)"
   ]
  },
  {
   "cell_type": "code",
   "execution_count": 148,
   "metadata": {
    "hidden": true
   },
   "outputs": [],
   "source": [
    "for file in file_list_VA:\n",
    "    make_partial_reporting(file_full='/Users/sarahmelancon/fall2/msds621/msds621_election_decisons/data/VA/Midterm/' + file,\n",
    "                           file_partial='/Users/sarahmelancon/fall2/msds621/msds621_election_decisons/data_75_percent/VA/Midterm/' + file,\n",
    "                           percent_reporting=0.75)"
   ]
  },
  {
   "cell_type": "markdown",
   "metadata": {
    "heading_collapsed": true
   },
   "source": [
    "## 50 Percent Reporting ##"
   ]
  },
  {
   "cell_type": "code",
   "execution_count": 204,
   "metadata": {
    "hidden": true
   },
   "outputs": [],
   "source": [
    "for file in file_list_GA:\n",
    "    make_partial_reporting(file_full='/Users/sarahmelancon/fall2/msds621/msds621_election_decisons/data/efs/scrape_2018/GA_SOS/' + file,\n",
    "                           file_partial='/Users/sarahmelancon/fall2/msds621/msds621_election_decisons/data_50_percent/GA/Midterm/' + file.split('/')[0] + '_2018.csv',\n",
    "                           percent_reporting=0.50)"
   ]
  },
  {
   "cell_type": "code",
   "execution_count": 205,
   "metadata": {
    "hidden": true
   },
   "outputs": [],
   "source": [
    "for file in file_list_AR:\n",
    "    make_partial_reporting(file_full='/Users/sarahmelancon/fall2/msds621/msds621_election_decisons/data/efs/scrape_2018/AR_SOS/' + file,\n",
    "                           file_partial='/Users/sarahmelancon/fall2/msds621/msds621_election_decisons/data_50_percent/AR/Midterm/' + file.split('/')[0] + '_2018.csv',\n",
    "                           percent_reporting=0.50)"
   ]
  },
  {
   "cell_type": "code",
   "execution_count": 206,
   "metadata": {
    "hidden": true
   },
   "outputs": [],
   "source": [
    "for file in file_list_NC:\n",
    "    make_partial_reporting(file_full='/Users/sarahmelancon/fall2/msds621/msds621_election_decisons/data/efs/scrape_2018/NC_SOS/' + file,\n",
    "                           file_partial='/Users/sarahmelancon/fall2/msds621/msds621_election_decisons/data_50_percent/NC/Midterm/' + file.split('/')[0] + '_2018.csv',\n",
    "                           percent_reporting=0.50)"
   ]
  },
  {
   "cell_type": "code",
   "execution_count": 149,
   "metadata": {
    "hidden": true
   },
   "outputs": [],
   "source": [
    "for file in file_list_FL:\n",
    "    make_partial_reporting(file_full='/Users/sarahmelancon/fall2/msds621/msds621_election_decisons/data/FL/Midterm/' + file,\n",
    "                           file_partial='/Users/sarahmelancon/fall2/msds621/msds621_election_decisons/data_50_percent/FL/Midterm/' + file,\n",
    "                           percent_reporting=0.50)"
   ]
  },
  {
   "cell_type": "code",
   "execution_count": 151,
   "metadata": {
    "hidden": true
   },
   "outputs": [],
   "source": [
    "for file in file_list_CO:\n",
    "    make_partial_reporting(file_full='/Users/sarahmelancon/fall2/msds621/msds621_election_decisons/data/CO/Midterm/' + file,\n",
    "                           file_partial='/Users/sarahmelancon/fall2/msds621/msds621_election_decisons/data_50_percent/CO/Midterm/' + file,\n",
    "                           percent_reporting=0.50)"
   ]
  },
  {
   "cell_type": "code",
   "execution_count": 152,
   "metadata": {
    "hidden": true
   },
   "outputs": [],
   "source": [
    "for file in file_list_MN:\n",
    "    make_partial_reporting(file_full='/Users/sarahmelancon/fall2/msds621/msds621_election_decisons/data/MN/Midterm/' + file,\n",
    "                           file_partial='/Users/sarahmelancon/fall2/msds621/msds621_election_decisons/data_50_percent/MN/Midterm/' + file,\n",
    "                           percent_reporting=0.50)"
   ]
  },
  {
   "cell_type": "code",
   "execution_count": 153,
   "metadata": {
    "hidden": true
   },
   "outputs": [],
   "source": [
    "for file in file_list_VA:\n",
    "    make_partial_reporting(file_full='/Users/sarahmelancon/fall2/msds621/msds621_election_decisons/data/VA/Midterm/' + file,\n",
    "                           file_partial='/Users/sarahmelancon/fall2/msds621/msds621_election_decisons/data_50_percent/VA/Midterm/' + file,\n",
    "                           percent_reporting=0.50)"
   ]
  },
  {
   "cell_type": "markdown",
   "metadata": {
    "heading_collapsed": true
   },
   "source": [
    "## 90 Percent Reporting ##"
   ]
  },
  {
   "cell_type": "code",
   "execution_count": 207,
   "metadata": {
    "hidden": true
   },
   "outputs": [],
   "source": [
    "for file in file_list_GA:\n",
    "    make_partial_reporting(file_full='/Users/sarahmelancon/fall2/msds621/msds621_election_decisons/data/efs/scrape_2018/GA_SOS/' + file,\n",
    "                           file_partial='/Users/sarahmelancon/fall2/msds621/msds621_election_decisons/data_90_percent/GA/Midterm/' + file.split('/')[0] + '_2018.csv',\n",
    "                           percent_reporting=0.90)"
   ]
  },
  {
   "cell_type": "code",
   "execution_count": 208,
   "metadata": {
    "hidden": true
   },
   "outputs": [],
   "source": [
    "for file in file_list_NC:\n",
    "    make_partial_reporting(file_full='/Users/sarahmelancon/fall2/msds621/msds621_election_decisons/data/efs/scrape_2018/NC_SOS/' + file,\n",
    "                           file_partial='/Users/sarahmelancon/fall2/msds621/msds621_election_decisons/data_90_percent/NC/Midterm/' + file.split('/')[0] + '_2018.csv',\n",
    "                           percent_reporting=0.90)"
   ]
  },
  {
   "cell_type": "code",
   "execution_count": 209,
   "metadata": {
    "hidden": true
   },
   "outputs": [],
   "source": [
    "for file in file_list_AR:\n",
    "    make_partial_reporting(file_full='/Users/sarahmelancon/fall2/msds621/msds621_election_decisons/data/efs/scrape_2018/AR_SOS/' + file,\n",
    "                           file_partial='/Users/sarahmelancon/fall2/msds621/msds621_election_decisons/data_90_percent/AR/Midterm/' + file.split('/')[0] + '_2018.csv',\n",
    "                           percent_reporting=0.90)"
   ]
  },
  {
   "cell_type": "code",
   "execution_count": 154,
   "metadata": {
    "hidden": true
   },
   "outputs": [],
   "source": [
    "for file in file_list_FL:\n",
    "    make_partial_reporting(file_full='/Users/sarahmelancon/fall2/msds621/msds621_election_decisons/data/FL/Midterm/' + file,\n",
    "                           file_partial='/Users/sarahmelancon/fall2/msds621/msds621_election_decisons/data_90_percent/FL/Midterm/' + file,\n",
    "                           percent_reporting=0.90)"
   ]
  },
  {
   "cell_type": "code",
   "execution_count": 155,
   "metadata": {
    "hidden": true
   },
   "outputs": [],
   "source": [
    "for file in file_list_CO:\n",
    "    make_partial_reporting(file_full='/Users/sarahmelancon/fall2/msds621/msds621_election_decisons/data/CO/Midterm/' + file,\n",
    "                           file_partial='/Users/sarahmelancon/fall2/msds621/msds621_election_decisons/data_90_percent/CO/Midterm/' + file,\n",
    "                           percent_reporting=0.90)"
   ]
  },
  {
   "cell_type": "code",
   "execution_count": 156,
   "metadata": {
    "hidden": true
   },
   "outputs": [],
   "source": [
    "for file in file_list_MN:\n",
    "    make_partial_reporting(file_full='/Users/sarahmelancon/fall2/msds621/msds621_election_decisons/data/MN/Midterm/' + file,\n",
    "                           file_partial='/Users/sarahmelancon/fall2/msds621/msds621_election_decisons/data_90_percent/MN/Midterm/' + file,\n",
    "                           percent_reporting=0.90)"
   ]
  },
  {
   "cell_type": "code",
   "execution_count": 157,
   "metadata": {
    "hidden": true
   },
   "outputs": [],
   "source": [
    "for file in file_list_VA:\n",
    "    make_partial_reporting(file_full='/Users/sarahmelancon/fall2/msds621/msds621_election_decisons/data/VA/Midterm/' + file,\n",
    "                           file_partial='/Users/sarahmelancon/fall2/msds621/msds621_election_decisons/data_90_percent/VA/Midterm/' + file,\n",
    "                           percent_reporting=0.90)"
   ]
  },
  {
   "cell_type": "markdown",
   "metadata": {
    "heading_collapsed": true
   },
   "source": [
    "## 25 Percent Reporting ##"
   ]
  },
  {
   "cell_type": "code",
   "execution_count": 210,
   "metadata": {
    "hidden": true
   },
   "outputs": [],
   "source": [
    "for file in file_list_GA:\n",
    "    make_partial_reporting(file_full='/Users/sarahmelancon/fall2/msds621/msds621_election_decisons/data/efs/scrape_2018/GA_SOS/' + file,\n",
    "                           file_partial='/Users/sarahmelancon/fall2/msds621/msds621_election_decisons/data_25_percent/GA/Midterm/' + file.split('/')[0] + '_2018.csv',\n",
    "                           percent_reporting=0.25)"
   ]
  },
  {
   "cell_type": "code",
   "execution_count": 211,
   "metadata": {
    "hidden": true
   },
   "outputs": [],
   "source": [
    "for file in file_list_NC:\n",
    "    make_partial_reporting(file_full='/Users/sarahmelancon/fall2/msds621/msds621_election_decisons/data/efs/scrape_2018/NC_SOS/' + file,\n",
    "                           file_partial='/Users/sarahmelancon/fall2/msds621/msds621_election_decisons/data_25_percent/NC/Midterm/' + file.split('/')[0] + '_2018.csv',\n",
    "                           percent_reporting=0.25)"
   ]
  },
  {
   "cell_type": "code",
   "execution_count": 212,
   "metadata": {
    "hidden": true
   },
   "outputs": [],
   "source": [
    "for file in file_list_AR:\n",
    "    make_partial_reporting(file_full='/Users/sarahmelancon/fall2/msds621/msds621_election_decisons/data/efs/scrape_2018/AR_SOS/' + file,\n",
    "                           file_partial='/Users/sarahmelancon/fall2/msds621/msds621_election_decisons/data_25_percent/AR/Midterm/' + file.split('/')[0] + '_2018.csv',\n",
    "                           percent_reporting=0.25)"
   ]
  },
  {
   "cell_type": "code",
   "execution_count": 158,
   "metadata": {
    "hidden": true
   },
   "outputs": [],
   "source": [
    "for file in file_list_FL:\n",
    "    make_partial_reporting(file_full='/Users/sarahmelancon/fall2/msds621/msds621_election_decisons/data/FL/Midterm/' + file,\n",
    "                           file_partial='/Users/sarahmelancon/fall2/msds621/msds621_election_decisons/data_25_percent/FL/Midterm/' + file,\n",
    "                           percent_reporting=0.25)"
   ]
  },
  {
   "cell_type": "code",
   "execution_count": 159,
   "metadata": {
    "hidden": true
   },
   "outputs": [],
   "source": [
    "for file in file_list_CO:\n",
    "    make_partial_reporting(file_full='/Users/sarahmelancon/fall2/msds621/msds621_election_decisons/data/CO/Midterm/' + file,\n",
    "                           file_partial='/Users/sarahmelancon/fall2/msds621/msds621_election_decisons/data_25_percent/CO/Midterm/' + file,\n",
    "                           percent_reporting=0.25)"
   ]
  },
  {
   "cell_type": "code",
   "execution_count": 160,
   "metadata": {
    "hidden": true
   },
   "outputs": [],
   "source": [
    "for file in file_list_MN:\n",
    "    make_partial_reporting(file_full='/Users/sarahmelancon/fall2/msds621/msds621_election_decisons/data/MN/Midterm/' + file,\n",
    "                           file_partial='/Users/sarahmelancon/fall2/msds621/msds621_election_decisons/data_25_percent/MN/Midterm/' + file,\n",
    "                           percent_reporting=0.25)"
   ]
  },
  {
   "cell_type": "code",
   "execution_count": 161,
   "metadata": {
    "hidden": true
   },
   "outputs": [],
   "source": [
    "for file in file_list_VA:\n",
    "    make_partial_reporting(file_full='/Users/sarahmelancon/fall2/msds621/msds621_election_decisons/data/VA/Midterm/' + file,\n",
    "                           file_partial='/Users/sarahmelancon/fall2/msds621/msds621_election_decisons/data_25_percent/VA/Midterm/' + file,\n",
    "                           percent_reporting=0.25)"
   ]
  },
  {
   "cell_type": "markdown",
   "metadata": {
    "hidden": true
   },
   "source": []
  }
 ],
 "metadata": {
  "kernelspec": {
   "display_name": "Python 3",
   "language": "python",
   "name": "python3"
  },
  "language_info": {
   "codemirror_mode": {
    "name": "ipython",
    "version": 3
   },
   "file_extension": ".py",
   "mimetype": "text/x-python",
   "name": "python",
   "nbconvert_exporter": "python",
   "pygments_lexer": "ipython3",
   "version": "3.6.4"
  }
 },
 "nbformat": 4,
 "nbformat_minor": 2
}
